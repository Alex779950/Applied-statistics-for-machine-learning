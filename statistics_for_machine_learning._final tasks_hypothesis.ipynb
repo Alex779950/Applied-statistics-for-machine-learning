{
 "cells": [
  {
   "cell_type": "markdown",
   "id": "d3928505",
   "metadata": {
    "toc": true,
    "id": "d3928505"
   },
   "source": [
    "<h1>Table of Contents<span class=\"tocSkip\"></span></h1>\n",
    "<div class=\"toc\"><ul class=\"toc-item\"><li><span><a href=\"#Часть-1:-Много-гипотез\" data-toc-modified-id=\"Часть-1:-Много-гипотез-1\">Часть 1: Много гипотез</a></span><ul class=\"toc-item\"><li><span><a href=\"#Мудрость\" data-toc-modified-id=\"Мудрость-1.1\">Мудрость</a></span></li><li><span><a href=\"#Алексей\" data-toc-modified-id=\"Алексей-1.2\">Алексей</a></span></li><li><span><a href=\"#Рейтинги-президентов\" data-toc-modified-id=\"Рейтинги-президентов-1.3\">Рейтинги президентов</a></span></li><li><span><a href=\"#Сон\" data-toc-modified-id=\"Сон-1.4\">Сон</a></span></li><li><span><a href=\"#Say-my-name\" data-toc-modified-id=\"Say-my-name-1.5\">Say my name</a></span></li><li><span><a href=\"#Матан\" data-toc-modified-id=\"Матан-1.6\">Матан</a></span></li><li><span><a href=\"#Бутерброд\" data-toc-modified-id=\"Бутерброд-1.7\">Бутерброд</a></span></li></ul></li><li><span><a href=\"#Часть-2:-Продолжаем-проверять-гипотезы\" data-toc-modified-id=\"Часть-2:-Продолжаем-проверять-гипотезы-2\">Часть 2: Продолжаем проверять гипотезы</a></span><ul class=\"toc-item\"><li><span><a href=\"#Однородная-игра\" data-toc-modified-id=\"Однородная-игра-2.1\">Однородная игра</a></span></li><li><span><a href=\"#Мыши-и-зеркало\" data-toc-modified-id=\"Мыши-и-зеркало-2.2\">Мыши и зеркало</a></span></li><li><span><a href=\"#Энергетик\" data-toc-modified-id=\"Энергетик-2.3\">Энергетик</a></span></li><li><span><a href=\"#Бомбардировки\" data-toc-modified-id=\"Бомбардировки-2.4\">Бомбардировки</a></span></li></ul></li><li><span><a href=\"#Еще-больше-гипотез\" data-toc-modified-id=\"Еще-больше-гипотез-3\">Еще больше гипотез</a></span><ul class=\"toc-item\"><li><span><a href=\"#Сиэтл\" data-toc-modified-id=\"Сиэтл-3.3\">Сиэтл</a></span></li><li><span><a href=\"#Расход-топлива\" data-toc-modified-id=\"Расход-топлива-3.4\">Расход топлива</a></span><ul class=\"toc-item\"><li><span><a href=\"#vs,-mpg\" data-toc-modified-id=\"vs,-mpg-3.4.1\">vs, mpg</a></span></li><li><span><a href=\"#am,-mpg\" data-toc-modified-id=\"am,-mpg-3.4.2\">am, mpg</a></span></li><li><span><a href=\"#vs,-am\" data-toc-modified-id=\"vs,-am-3.4.3\">vs, am</a></span></li></ul></li></ul></li></ul></div>"
   ]
  },
  {
   "cell_type": "markdown",
   "id": "282e651b",
   "metadata": {
    "id": "282e651b"
   },
   "source": [
    "# Часть 1: Много гипотез"
   ]
  },
  {
   "cell_type": "markdown",
   "id": "8bf9743a",
   "metadata": {
    "id": "8bf9743a"
   },
   "source": [
    "В этом домашнем задании нужно проверить много-много гипотез\n",
    "\n",
    "Каждая дает по 5 баллов\n",
    "\n",
    "**Часть 1**\n",
    "\n",
    "| Задание              | Баллы |\n",
    "|----------------------|-------|\n",
    "| Мудрость             |     5 |\n",
    "| Алексей              |     5 |\n",
    "| Рейтинги президентов |     5 |\n",
    "| Сон                  |     5 |\n",
    "| Say my name          |     5 |\n",
    "| Матан                |     5 |\n",
    "| Бутерброд            |     5 |\n",
    "| Всего            |     35 |\n",
    "\n",
    "\n",
    "**Часть 2**\n",
    "\n",
    "| Задание            | Датасет         | Баллы |\n",
    "|--------------------|-----------------|-------|\n",
    "| Однородная игра    | killer_time     |     7 |\n",
    "| Мыши и зеркало     | mouses_mirror   |     7 |\n",
    "| Энергетик          | energy drink    |     7 |\n",
    "| Бомбардировки      | london          |     7 |\n",
    "| Сиэтл              | seattle         |     7 |\n",
    "| Расход топлива - 1 | mtcars: vs mpg  |     5 |\n",
    "| Расход топлива - 2 | mtcars: am mpg  |     5 |\n",
    "| Расход топлива - 3 | mtcars: am vs   |     5 |\n",
    "|                    | Всего           |    50 |\n"
   ]
  },
  {
   "cell_type": "code",
   "execution_count": 1,
   "id": "007bd95a",
   "metadata": {
    "id": "007bd95a"
   },
   "outputs": [],
   "source": [
    "import numpy as np\n",
    "import pandas as pd\n",
    "\n",
    "from scipy import stats\n",
    "from scipy import stats as sts\n",
    "\n",
    "import seaborn as sns\n",
    "import matplotlib.pyplot as plt\n",
    "\n",
    "plt.style.use('ggplot')"
   ]
  },
  {
   "cell_type": "markdown",
   "id": "7b29fba4",
   "metadata": {
    "id": "7b29fba4"
   },
   "source": [
    "## Мудрость\n",
    "\n",
    "> Помните, что для человека звук его имени является самым сладким и самым важным звуком человеческой речи. (Дейл Карнеги)\n",
    "\n",
    "Доверяй, но проверяй. Решим задачку по психологии! Все цитаты в пабликах вконтакте делятся на два вида: мудрые и недостаточно мудрые. Если цитата мудрая, то её можно лайкнуть. Поговаривают, что если в цитате есть личные местоимения, то пользователь автоматически сопоставляет себя автору этой цитаты и вероятность того, что она будет лайкнута, повышается. Например, цитату\n",
    "\n",
    "> Можно простить человеку все, кроме отсутствия. (Экзюпери)\n",
    "\n",
    "мне не очень хотелось бы лайкать. А вот цитата\n",
    "\n",
    "> Мне наплевать, что вы обо мне думаете. Я о вас вообще не думаю. (Булгаков)\n",
    "\n",
    "совершенно другое дело.\n",
    "\n",
    "В табличке `df_vk_wise` лежат данные о мудрых цитатах из [мудрого паблика.](https://vk.com/ooioioioioioo) В колонке `I` находится переменная, которая принимает значение `True`, когда в тексте цитаты было личное местоимение \"Я\".\n",
    "\n",
    "Срежем первые $50$ постов, так как под ними количество репостов и лайков ещё окончательно не выставлено, и будем работать с остатками."
   ]
  },
  {
   "cell_type": "code",
   "execution_count": 2,
   "id": "f2ee53b6",
   "metadata": {
    "colab": {
     "base_uri": "https://localhost:8080/",
     "height": 206
    },
    "id": "f2ee53b6",
    "outputId": "d6ae8459-a8ec-45ed-fea5-68fd9eee5a0c"
   },
   "outputs": [
    {
     "data": {
      "text/plain": "    likes  reposts                                               text      I\n50    549       25  Я, говорит, люблю человечество, но дивлюсь на ...   True\n51    607       22  Нельзя любить то, что я люблю, да ещё так, как...   True\n52    914       37  Если испытываешь по-настоящему глубокое чувств...  False\n53    989       34  — Я тебя люблю, — сказал я. \\n— Это пройдет, —...   True\n54   1229       32  Он очаровательно рассказывает мне о том, как о...  False",
      "text/html": "<div>\n<style scoped>\n    .dataframe tbody tr th:only-of-type {\n        vertical-align: middle;\n    }\n\n    .dataframe tbody tr th {\n        vertical-align: top;\n    }\n\n    .dataframe thead th {\n        text-align: right;\n    }\n</style>\n<table border=\"1\" class=\"dataframe\">\n  <thead>\n    <tr style=\"text-align: right;\">\n      <th></th>\n      <th>likes</th>\n      <th>reposts</th>\n      <th>text</th>\n      <th>I</th>\n    </tr>\n  </thead>\n  <tbody>\n    <tr>\n      <th>50</th>\n      <td>549</td>\n      <td>25</td>\n      <td>Я, говорит, люблю человечество, но дивлюсь на ...</td>\n      <td>True</td>\n    </tr>\n    <tr>\n      <th>51</th>\n      <td>607</td>\n      <td>22</td>\n      <td>Нельзя любить то, что я люблю, да ещё так, как...</td>\n      <td>True</td>\n    </tr>\n    <tr>\n      <th>52</th>\n      <td>914</td>\n      <td>37</td>\n      <td>Если испытываешь по-настоящему глубокое чувств...</td>\n      <td>False</td>\n    </tr>\n    <tr>\n      <th>53</th>\n      <td>989</td>\n      <td>34</td>\n      <td>— Я тебя люблю, — сказал я. \\n— Это пройдет, —...</td>\n      <td>True</td>\n    </tr>\n    <tr>\n      <th>54</th>\n      <td>1229</td>\n      <td>32</td>\n      <td>Он очаровательно рассказывает мне о том, как о...</td>\n      <td>False</td>\n    </tr>\n  </tbody>\n</table>\n</div>"
     },
     "execution_count": 2,
     "metadata": {},
     "output_type": "execute_result"
    }
   ],
   "source": [
    "df = pd.read_csv('C:/main/hse/statistics/hw_4/df_vk_wise.csv')[50:]\n",
    "df.head(5)"
   ]
  },
  {
   "cell_type": "code",
   "execution_count": 3,
   "outputs": [
    {
     "data": {
      "text/plain": "(9075, 4)"
     },
     "execution_count": 3,
     "metadata": {},
     "output_type": "execute_result"
    }
   ],
   "source": [
    "df.shape"
   ],
   "metadata": {
    "collapsed": false
   }
  },
  {
   "cell_type": "markdown",
   "id": "384a3381",
   "metadata": {
    "id": "384a3381"
   },
   "source": [
    "Постройте гистограмму для числа лайков постов, содержащих личные местоимения и не содержащих."
   ]
  },
  {
   "cell_type": "code",
   "execution_count": 4,
   "id": "65f82b07",
   "metadata": {
    "deletable": false,
    "id": "65f82b07",
    "nbgrader": {
     "cell_type": "code",
     "checksum": "3959fa2c8afbb37a435b22f39831c1b4",
     "grade": false,
     "grade_id": "cell-5b1acf05ccd983b3",
     "locked": false,
     "schema_version": 3,
     "solution": true,
     "task": false
    }
   },
   "outputs": [
    {
     "data": {
      "text/plain": "<Figure size 1000x600 with 1 Axes>",
      "image/png": "[encoded data removed]"
     },
     "metadata": {},
     "output_type": "display_data"
    }
   ],
   "source": [
    "# фильтрация данных по наличию/отсутствию личных местоимений\n",
    "df_with_personal_pronoun = df[df['I'] == True]\n",
    "df_without_personal_pronoun = df[df['I'] == False]\n",
    "\n",
    "# гистограмма\n",
    "plt.figure(figsize=(10, 6))\n",
    "\n",
    "plt.hist(df_with_personal_pronoun['likes'], bins=20, alpha=0.5, label='С личными местоимениями')\n",
    "plt.hist(df_without_personal_pronoun['likes'], bins=20, alpha=0.5, label='Без личных местоимений')\n",
    "\n",
    "plt.title('число лайков с и без личных местоимений')\n",
    "plt.xlabel('число лайков')\n",
    "plt.ylabel('частота')\n",
    "plt.legend()\n",
    "\n",
    "plt.show()"
   ]
  },
  {
   "cell_type": "markdown",
   "id": "788f3e5a",
   "metadata": {
    "id": "788f3e5a"
   },
   "source": [
    "Хвосты на гистограммах оказываются очень длинными. Найдите медианы и средние для числа лайков. Сравните их между собой."
   ]
  },
  {
   "cell_type": "code",
   "execution_count": 5,
   "id": "8fd0cc8e",
   "metadata": {
    "deletable": false,
    "id": "8fd0cc8e",
    "nbgrader": {
     "cell_type": "code",
     "checksum": "920d011f18252d1f5ad8a0acbd77af8b",
     "grade": false,
     "grade_id": "cell-84afb85a40373b11",
     "locked": false,
     "schema_version": 3,
     "solution": true,
     "task": false
    }
   },
   "outputs": [
    {
     "name": "stdout",
     "output_type": "stream",
     "text": [
      "Медиана числа лайков с лич. мест-ми: 2588.5\n",
      "Медиана числа лайков без лич. мест-ий: 2497.0\n",
      "Среднее число лайков с лич. мест-ми: 2879.1828885400314\n",
      "Среднее число лайков без лич. мест-ий: 2784.0432051478474\n"
     ]
    }
   ],
   "source": [
    "# нахождение медиан и средних\n",
    "median_with_personal_pronoun = df_with_personal_pronoun['likes'].median()\n",
    "median_without_personal_pronoun = df_without_personal_pronoun['likes'].median()\n",
    "\n",
    "mean_with_personal_pronoun = df_with_personal_pronoun['likes'].mean()\n",
    "mean_without_personal_pronoun = df_without_personal_pronoun['likes'].mean()\n",
    "\n",
    "print(\"Медиана числа лайков с лич. мест-ми:\", median_with_personal_pronoun)\n",
    "print(\"Медиана числа лайков без лич. мест-ий:\", median_without_personal_pronoun)\n",
    "print(\"Среднее число лайков с лич. мест-ми:\", mean_with_personal_pronoun)\n",
    "print(\"Среднее число лайков без лич. мест-ий:\", mean_without_personal_pronoun)"
   ]
  },
  {
   "cell_type": "markdown",
   "id": "1f6a3d5e",
   "metadata": {
    "id": "1f6a3d5e"
   },
   "source": [
    "Проверьте гипотезу о равенстве среднего числа лайков. Используйте для этого $z$-тест, основанный на ЦПТ. Дисперсию расчитывайте по выборке, используя несмещённую оценку `(ddof=1)`. Запишите наблюдаемое значение статистики в переменную `z_obs`."
   ]
  },
  {
   "cell_type": "code",
   "execution_count": 6,
   "id": "47fe8565",
   "metadata": {
    "deletable": false,
    "id": "47fe8565",
    "nbgrader": {
     "cell_type": "code",
     "checksum": "7f93ee1688388c6a8b8449e05da2fe98",
     "grade": false,
     "grade_id": "cell-1acfb89f07181a0a",
     "locked": false,
     "schema_version": 3,
     "solution": true,
     "task": false
    }
   },
   "outputs": [
    {
     "name": "stdout",
     "output_type": "stream",
     "text": [
      "Наблюдаемое значение статистики z: 2.6644610922505323\n",
      "p-значение: 0.007711178605442903\n",
      "Отвергаем нулевую гипотезу: средние значения различаются\n"
     ]
    }
   ],
   "source": [
    "# несмещённые оценки дисперсий\n",
    "var_with_personal_pronoun = np.var(df_with_personal_pronoun['likes'], ddof=1)\n",
    "var_without_personal_pronoun = np.var(df_without_personal_pronoun['likes'], ddof=1)\n",
    "\n",
    "n_with_personal_pronoun = len(df_with_personal_pronoun)   # размеры выборок\n",
    "n_without_personal_pronoun = len(df_without_personal_pronoun)\n",
    "\n",
    "mean_with_personal_pronoun = df_with_personal_pronoun['likes'].mean()\n",
    "mean_without_personal_pronoun = df_without_personal_pronoun['likes'].mean()\n",
    "\n",
    "# стандартная ошибку разности средних\n",
    "se = np.sqrt((var_with_personal_pronoun / n_with_personal_pronoun) + (var_without_personal_pronoun / n_without_personal_pronoun))\n",
    "# наблюдаемое значение статистики\n",
    "z_obs = (mean_with_personal_pronoun - mean_without_personal_pronoun) / se\n",
    "#  z-тест\n",
    "p_value = 2 * (1 - stats.norm.cdf(np.abs(z_obs)))\n",
    "\n",
    "print(\"Наблюдаемое значение статистики z:\", z_obs)\n",
    "print(\"p-значение:\", p_value)\n",
    "# проверка гипотезы\n",
    "alpha = 0.05\n",
    "if p_value < alpha:\n",
    "    print(\"Отвергаем нулевую гипотезу: средние значения различаются\")\n",
    "else:\n",
    "    print(\"Не отвергаем нулевую гипотезу: нет оснований считать средние значения различными\")"
   ]
  },
  {
   "cell_type": "markdown",
   "id": "f281d536",
   "metadata": {
    "id": "f281d536"
   },
   "source": [
    "Найдите критическое значение статистики. Сравните его с наблюдаемым. Рассчитайте p-value для ситуации с двусторонней альтернативой. Сделайте вывод о выдвинутой гипотезе. Критическое значение статистики запишите в переменную `z_crit`, а p-значение в переменную `pval`."
   ]
  },
  {
   "cell_type": "code",
   "execution_count": 7,
   "id": "e18de0da",
   "metadata": {
    "deletable": false,
    "id": "e18de0da",
    "nbgrader": {
     "cell_type": "code",
     "checksum": "46bd437560b80a2b837cc3e7d7415f62",
     "grade": false,
     "grade_id": "cell-9ebff976022e649a",
     "locked": false,
     "schema_version": 3,
     "solution": true,
     "task": false
    }
   },
   "outputs": [
    {
     "name": "stdout",
     "output_type": "stream",
     "text": [
      "Критическое значение статистики: 1.959963984540054\n",
      "p-значение для двусторонней альтернативы: 0.007711178605442903\n",
      "Отвергаем нулевую гипотезу: средние значения различаются\n"
     ]
    }
   ],
   "source": [
    "alpha = 0.05\n",
    "# критическое значение статистики\n",
    "z_crit = stats.norm.ppf(1 - alpha / 2)\n",
    "# p-value для двусторонней альтернативы\n",
    "pval = 2 * (1 - stats.norm.cdf(np.abs(z_obs)))\n",
    "\n",
    "print(\"Критическое значение статистики:\", z_crit)\n",
    "print(\"p-значение для двусторонней альтернативы:\", pval)\n",
    "# cравнение с наблюдаемым значением\n",
    "if np.abs(z_obs) > z_crit or pval < alpha:\n",
    "    print(\"Отвергаем нулевую гипотезу: средние значения различаются\")\n",
    "else:\n",
    "    print(\"Не отвергаем нулевую гипотезу: нет оснований считать средние значения различными\")"
   ]
  },
  {
   "cell_type": "markdown",
   "source": [
    "### вывод\n",
    "Если наблюдаемое значение z_obs превышает по модулю z_crit, или если pval меньше alpha, то мы отвергаем нулевую гипотезу о равенстве средних значений"
   ],
   "metadata": {
    "collapsed": false
   }
  },
  {
   "cell_type": "code",
   "execution_count": 8,
   "id": "337c0d92",
   "metadata": {
    "id": "337c0d92"
   },
   "outputs": [],
   "source": [
    "# проверка того, что задание решено верно\n",
    "assert np.abs(z_obs - 2.6644610922505323) < 1e-5"
   ]
  },
  {
   "cell_type": "markdown",
   "id": "37f4c0e5",
   "metadata": {
    "id": "37f4c0e5"
   },
   "source": [
    "Можно заметить, что у распределения числа репостов длинные хвосты. В данных есть выбросы, которые завышают среднее значение. Если выбросы сильные, то ЦПТ может ломаться. Из-за этого имеет смысл в данном случае проверять гипотезу о равенстве медиан, которые устойчивы к выбросам.\n",
    "\n",
    "-------------------"
   ]
  },
  {
   "cell_type": "markdown",
   "id": "bcfbd492",
   "metadata": {
    "id": "bcfbd492"
   },
   "source": [
    "## Алексей\n",
    "\n",
    "__Люди всё время меня спрашивают, знаю ли я Алексея?__ Да, знаю. Он делает лучшее мыло в стране.\n",
    "\n",
    "__а)__ Алексей считает партию изделий хорошей, если дисперсия размера не превышает $25$ грамм$^2$. Пока Алексей летел в самолёте, он измерил $10$ кусков мыла. Выборочная дисперсия оказалась равна $27$ грамм$^2$. Можно ли продавать эту партию или её надо списать в брак?\n",
    "\n",
    "В предположении гауссовской выборки (или ЦПТ), выборочная дисперсия имеет распределение хи-квадрат с $n-1$ степенью свободы, так как это сумма квадратов (примерно) гауссовских независимых величин.\n",
    "\n",
    "При проверке этой гипотезы найдите $p$-значение и запишите его в переменную `pval1`. Наблюдаемое значение статистики запишите в переменную `chi_obs`. Используйте уровень значимости $1\\%$."
   ]
  },
  {
   "cell_type": "code",
   "execution_count": 9,
   "id": "150e3076",
   "metadata": {
    "deletable": false,
    "id": "150e3076",
    "nbgrader": {
     "cell_type": "code",
     "checksum": "9b8826d6e3062cc4de98fdd59e1d6ca9",
     "grade": false,
     "grade_id": "cell-2e30e820f90148d5",
     "locked": false,
     "schema_version": 3,
     "solution": true,
     "task": false
    }
   },
   "outputs": [
    {
     "name": "stdout",
     "output_type": "stream",
     "text": [
      "Наблюдаемое значение статистики: 9.72\n",
      "P-value для односторонней альтернативы: 0.37362476510008014\n"
     ]
    }
   ],
   "source": [
    "from scipy.stats import chi2\n",
    "\n",
    "sample_var = 27  # выборочная дисперсия\n",
    "target_var = 25  # целевая дисперсия\n",
    "sample_size = 10  # размер выборки\n",
    "# степени свободы для распределения хи-квадрат\n",
    "degrees_of_freedom = sample_size - 1\n",
    "# статистика теста (хи-квадрат)\n",
    "chi_stat = (degrees_of_freedom * sample_var) / target_var\n",
    "# наблюдаемое значение статистики\n",
    "chi_obs = chi_stat\n",
    "# p-value для односторонней альтернативы (выше)\n",
    "pval1 = 1 - chi2.cdf(chi_stat, degrees_of_freedom)\n",
    "\n",
    "print(\"Наблюдаемое значение статистики:\", chi_obs)\n",
    "print(\"P-value для односторонней альтернативы:\", pval1)"
   ]
  },
  {
   "cell_type": "markdown",
   "id": "a299bf27",
   "metadata": {
    "id": "a299bf27"
   },
   "source": [
    "__б)__ Для того, чтобы уменьшить количество бракованного мыла, Алексей собирается внедрить новую технологию производства. Алексей произвёл по старой технологии $100$ кусков мыла. Стандартное отклонение этой партии составило $6$ грамм. Для  новой технологии стандартное отклонение, посчитанное по $100$ кускам мыла, составило $5$ грамм. Правда ли, что новая технология обладает меньшей дисперсией и её нужно внедрить на производстве?\n",
    "\n",
    "При проверке этой гипотезы найдите $p$-значение и запишите его в переменную `pval2`. Используйте уровень значимости $1\\%$."
   ]
  },
  {
   "cell_type": "code",
   "execution_count": 10,
   "id": "302b5c42",
   "metadata": {
    "deletable": false,
    "id": "302b5c42",
    "nbgrader": {
     "cell_type": "code",
     "checksum": "72a130a7ef8f3bae0797aa938d6cfe08",
     "grade": false,
     "grade_id": "cell-88a96be4941d7e62",
     "locked": false,
     "schema_version": 3,
     "solution": true,
     "task": false
    }
   },
   "outputs": [
    {
     "name": "stdout",
     "output_type": "stream",
     "text": [
      "Наблюдаемое значение статистики: 1.44\n",
      "P-value для односторонней альтернативы: 0.9644265520379744\n"
     ]
    }
   ],
   "source": [
    "from scipy.stats import f\n",
    "# заданные значения\n",
    "old_tech_std = 6  # стандартное отклонение для старой технологии\n",
    "new_tech_std = 5  # стандартное отклонение для новой технологии\n",
    "sample_size = 100  # размер выборок\n",
    "# рассчитываем статистику теста (F)\n",
    "F_obs = (old_tech_std**2) / (new_tech_std**2)\n",
    "# степени свободы для F-распределения\n",
    "df1 = sample_size - 1\n",
    "df2 = sample_size - 1\n",
    "#для односторонней альтернативы (левее)\n",
    "pval2 = f.cdf(F_obs, df1, df2)\n",
    "\n",
    "print(\"Наблюдаемое значение статистики:\", F_obs)\n",
    "print(\"P-value для односторонней альтернативы:\", pval2)"
   ]
  },
  {
   "cell_type": "code",
   "execution_count": 11,
   "id": "1dc8619f",
   "metadata": {
    "id": "1dc8619f"
   },
   "outputs": [],
   "source": [
    "# проверка того, что задание решено верно\n",
    "assert np.abs(chi_obs - 9.72) < 1e-1\n",
    "assert np.abs(F_obs - 1.44) < 1e-1\n"
   ]
  },
  {
   "cell_type": "markdown",
   "id": "c8c8ba35",
   "metadata": {
    "id": "c8c8ba35"
   },
   "source": [
    "## Рейтинги президентов\n",
    "\n",
    "В таблице `presidents.csv` представлены рейтинги различных президентов США. Социальные опросы проводились раз в квартал. Опрашивалась случайная выборка граждан. У каждого спрашивалось одобряет ли он деятельность президента.\n",
    "\n",
    "__Люди всё время меня спрашивают, знаю ли я Никсона.__ Да, Ричард Никсон был президентом США с 20 января 1969 года по 9 августа 1974 года. 17 июня 1972 года произошёл Уотергейтский скандал. Давайте проанализируем, что при этом произошло с его рейтингом."
   ]
  },
  {
   "cell_type": "code",
   "execution_count": 12,
   "id": "ae21fce0",
   "metadata": {
    "colab": {
     "base_uri": "https://localhost:8080/",
     "height": 206
    },
    "id": "ae21fce0",
    "outputId": "affa342e-235d-4990-a9fc-fbf63170c781"
   },
   "outputs": [
    {
     "data": {
      "text/plain": "    year  Qtr1  Qtr2  Qtr3  Qtr4\n0   1945   NaN    87  82.0  75.0\n1   1946  63.0    50  43.0  32.0\n2   1947  35.0    60  54.0  55.0\n3   1948  36.0    39   NaN   NaN\n4   1949  69.0    57  57.0  51.0\n5   1950  45.0    37  46.0  39.0\n6   1951  36.0    24  32.0  23.0\n7   1952  25.0    32   NaN  32.0\n8   1953  59.0    74  75.0  60.0\n9   1954  71.0    61  71.0  57.0\n10  1955  71.0    68  79.0  73.0\n11  1956  76.0    71  67.0  75.0\n12  1957  79.0    62  63.0  57.0\n13  1958  60.0    49  48.0  52.0\n14  1959  57.0    62  61.0  66.0\n15  1960  71.0    62  61.0  57.0\n16  1961  72.0    83  71.0  78.0\n17  1962  79.0    71  62.0  74.0\n18  1963  76.0    64  62.0  57.0\n19  1964  80.0    73  69.0  69.0\n20  1965  71.0    64  69.0  62.0\n21  1966  63.0    46  56.0  44.0\n22  1967  44.0    52  38.0  46.0\n23  1968  36.0    49  35.0  44.0\n24  1969  59.0    65  65.0  56.0\n25  1970  66.0    53  61.0  52.0\n26  1971  51.0    48  54.0  49.0\n27  1972  49.0    61   NaN   NaN\n28  1973  68.0    44  40.0  27.0\n29  1974  28.0    25  24.0  24.0",
      "text/html": "<div>\n<style scoped>\n    .dataframe tbody tr th:only-of-type {\n        vertical-align: middle;\n    }\n\n    .dataframe tbody tr th {\n        vertical-align: top;\n    }\n\n    .dataframe thead th {\n        text-align: right;\n    }\n</style>\n<table border=\"1\" class=\"dataframe\">\n  <thead>\n    <tr style=\"text-align: right;\">\n      <th></th>\n      <th>year</th>\n      <th>Qtr1</th>\n      <th>Qtr2</th>\n      <th>Qtr3</th>\n      <th>Qtr4</th>\n    </tr>\n  </thead>\n  <tbody>\n    <tr>\n      <th>0</th>\n      <td>1945</td>\n      <td>NaN</td>\n      <td>87</td>\n      <td>82.0</td>\n      <td>75.0</td>\n    </tr>\n    <tr>\n      <th>1</th>\n      <td>1946</td>\n      <td>63.0</td>\n      <td>50</td>\n      <td>43.0</td>\n      <td>32.0</td>\n    </tr>\n    <tr>\n      <th>2</th>\n      <td>1947</td>\n      <td>35.0</td>\n      <td>60</td>\n      <td>54.0</td>\n      <td>55.0</td>\n    </tr>\n    <tr>\n      <th>3</th>\n      <td>1948</td>\n      <td>36.0</td>\n      <td>39</td>\n      <td>NaN</td>\n      <td>NaN</td>\n    </tr>\n    <tr>\n      <th>4</th>\n      <td>1949</td>\n      <td>69.0</td>\n      <td>57</td>\n      <td>57.0</td>\n      <td>51.0</td>\n    </tr>\n    <tr>\n      <th>5</th>\n      <td>1950</td>\n      <td>45.0</td>\n      <td>37</td>\n      <td>46.0</td>\n      <td>39.0</td>\n    </tr>\n    <tr>\n      <th>6</th>\n      <td>1951</td>\n      <td>36.0</td>\n      <td>24</td>\n      <td>32.0</td>\n      <td>23.0</td>\n    </tr>\n    <tr>\n      <th>7</th>\n      <td>1952</td>\n      <td>25.0</td>\n      <td>32</td>\n      <td>NaN</td>\n      <td>32.0</td>\n    </tr>\n    <tr>\n      <th>8</th>\n      <td>1953</td>\n      <td>59.0</td>\n      <td>74</td>\n      <td>75.0</td>\n      <td>60.0</td>\n    </tr>\n    <tr>\n      <th>9</th>\n      <td>1954</td>\n      <td>71.0</td>\n      <td>61</td>\n      <td>71.0</td>\n      <td>57.0</td>\n    </tr>\n    <tr>\n      <th>10</th>\n      <td>1955</td>\n      <td>71.0</td>\n      <td>68</td>\n      <td>79.0</td>\n      <td>73.0</td>\n    </tr>\n    <tr>\n      <th>11</th>\n      <td>1956</td>\n      <td>76.0</td>\n      <td>71</td>\n      <td>67.0</td>\n      <td>75.0</td>\n    </tr>\n    <tr>\n      <th>12</th>\n      <td>1957</td>\n      <td>79.0</td>\n      <td>62</td>\n      <td>63.0</td>\n      <td>57.0</td>\n    </tr>\n    <tr>\n      <th>13</th>\n      <td>1958</td>\n      <td>60.0</td>\n      <td>49</td>\n      <td>48.0</td>\n      <td>52.0</td>\n    </tr>\n    <tr>\n      <th>14</th>\n      <td>1959</td>\n      <td>57.0</td>\n      <td>62</td>\n      <td>61.0</td>\n      <td>66.0</td>\n    </tr>\n    <tr>\n      <th>15</th>\n      <td>1960</td>\n      <td>71.0</td>\n      <td>62</td>\n      <td>61.0</td>\n      <td>57.0</td>\n    </tr>\n    <tr>\n      <th>16</th>\n      <td>1961</td>\n      <td>72.0</td>\n      <td>83</td>\n      <td>71.0</td>\n      <td>78.0</td>\n    </tr>\n    <tr>\n      <th>17</th>\n      <td>1962</td>\n      <td>79.0</td>\n      <td>71</td>\n      <td>62.0</td>\n      <td>74.0</td>\n    </tr>\n    <tr>\n      <th>18</th>\n      <td>1963</td>\n      <td>76.0</td>\n      <td>64</td>\n      <td>62.0</td>\n      <td>57.0</td>\n    </tr>\n    <tr>\n      <th>19</th>\n      <td>1964</td>\n      <td>80.0</td>\n      <td>73</td>\n      <td>69.0</td>\n      <td>69.0</td>\n    </tr>\n    <tr>\n      <th>20</th>\n      <td>1965</td>\n      <td>71.0</td>\n      <td>64</td>\n      <td>69.0</td>\n      <td>62.0</td>\n    </tr>\n    <tr>\n      <th>21</th>\n      <td>1966</td>\n      <td>63.0</td>\n      <td>46</td>\n      <td>56.0</td>\n      <td>44.0</td>\n    </tr>\n    <tr>\n      <th>22</th>\n      <td>1967</td>\n      <td>44.0</td>\n      <td>52</td>\n      <td>38.0</td>\n      <td>46.0</td>\n    </tr>\n    <tr>\n      <th>23</th>\n      <td>1968</td>\n      <td>36.0</td>\n      <td>49</td>\n      <td>35.0</td>\n      <td>44.0</td>\n    </tr>\n    <tr>\n      <th>24</th>\n      <td>1969</td>\n      <td>59.0</td>\n      <td>65</td>\n      <td>65.0</td>\n      <td>56.0</td>\n    </tr>\n    <tr>\n      <th>25</th>\n      <td>1970</td>\n      <td>66.0</td>\n      <td>53</td>\n      <td>61.0</td>\n      <td>52.0</td>\n    </tr>\n    <tr>\n      <th>26</th>\n      <td>1971</td>\n      <td>51.0</td>\n      <td>48</td>\n      <td>54.0</td>\n      <td>49.0</td>\n    </tr>\n    <tr>\n      <th>27</th>\n      <td>1972</td>\n      <td>49.0</td>\n      <td>61</td>\n      <td>NaN</td>\n      <td>NaN</td>\n    </tr>\n    <tr>\n      <th>28</th>\n      <td>1973</td>\n      <td>68.0</td>\n      <td>44</td>\n      <td>40.0</td>\n      <td>27.0</td>\n    </tr>\n    <tr>\n      <th>29</th>\n      <td>1974</td>\n      <td>28.0</td>\n      <td>25</td>\n      <td>24.0</td>\n      <td>24.0</td>\n    </tr>\n  </tbody>\n</table>\n</div>"
     },
     "execution_count": 12,
     "metadata": {},
     "output_type": "execute_result"
    }
   ],
   "source": [
    "df = pd.read_csv('C:/main/hse/statistics/hw_4/presidents.csv')\n",
    "df.head(30)"
   ]
  },
  {
   "cell_type": "code",
   "execution_count": 13,
   "outputs": [
    {
     "data": {
      "text/plain": "(30, 5)"
     },
     "execution_count": 13,
     "metadata": {},
     "output_type": "execute_result"
    }
   ],
   "source": [
    "df.shape"
   ],
   "metadata": {
    "collapsed": false
   }
  },
  {
   "cell_type": "markdown",
   "id": "6e8bc61d",
   "metadata": {
    "id": "6e8bc61d"
   },
   "source": [
    "Чтобы привести таблицу к удобному виду используйте функцию `pd.melt`. Вытащите из таблички рейтинг Никсона с 1 квартала 1969 года по 2 квартал 1972 года (включая его). Запишите эти данные в переменную `x`. Рейтинг с 3 квартала 1972 года по 2 квартал 1974 года поместите в переменную `y`. Пропуски в данных удалите из выборки."
   ]
  },
  {
   "cell_type": "markdown",
   "id": "38eadf6b",
   "metadata": {
    "id": "38eadf6b"
   },
   "source": [
    "Правда ли, что после скандала средний рейтинг Никсона рухнул? Предполагайте, что рейтинг распределён нормально, а также, что дисперсия рейтинга не изменилась из-за скандала. Наблюдаемое значение статистики запишите в переменную `obs`, в переменную `pval` запишите $p$-значение."
   ]
  },
  {
   "cell_type": "code",
   "execution_count": 14,
   "outputs": [
    {
     "name": "stdout",
     "output_type": "stream",
     "text": [
      "    year  Qtr1  Qtr2  Qtr3  Qtr4\n",
      "0   1945   nan  87.0  82.0  75.0\n",
      "1   1946  63.0  50.0  43.0  32.0\n",
      "2   1947  35.0  60.0  54.0  55.0\n",
      "3   1948  36.0  39.0   nan   nan\n",
      "4   1949  69.0  57.0  57.0  51.0\n",
      "5   1950  45.0  37.0  46.0  39.0\n",
      "6   1951  36.0  24.0  32.0  23.0\n",
      "7   1952  25.0  32.0   nan  32.0\n",
      "8   1953  59.0  74.0  75.0  60.0\n",
      "9   1954  71.0  61.0  71.0  57.0\n",
      "10  1955  71.0  68.0  79.0  73.0\n",
      "11  1956  76.0  71.0  67.0  75.0\n",
      "12  1957  79.0  62.0  63.0  57.0\n",
      "13  1958  60.0  49.0  48.0  52.0\n",
      "14  1959  57.0  62.0  61.0  66.0\n",
      "15  1960  71.0  62.0  61.0  57.0\n",
      "16  1961  72.0  83.0  71.0  78.0\n",
      "17  1962  79.0  71.0  62.0  74.0\n",
      "18  1963  76.0  64.0  62.0  57.0\n",
      "19  1964  80.0  73.0  69.0  69.0\n",
      "20  1965  71.0  64.0  69.0  62.0\n",
      "21  1966  63.0  46.0  56.0  44.0\n",
      "22  1967  44.0  52.0  38.0  46.0\n",
      "23  1968  36.0  49.0  35.0  44.0\n",
      "24  1969  59.0  65.0  65.0  56.0\n",
      "25  1970  66.0  53.0  61.0  52.0\n",
      "26  1971  51.0  48.0  54.0  49.0\n",
      "27  1972  49.0  61.0   nan   nan\n",
      "28  1973  68.0  44.0  40.0  27.0\n",
      "29  1974  28.0  25.0  24.0  24.0\n"
     ]
    }
   ],
   "source": [
    "# преобразование столбцов Qtr1, Qtr2, Qtr3, Qtr4 в формат с одной десятичной цифрой\n",
    "df['Qtr1'] = df['Qtr1'].map('{:.1f}'.format)\n",
    "df['Qtr2'] = df['Qtr2'].map('{:.1f}'.format)\n",
    "df['Qtr3'] = df['Qtr3'].map('{:.1f}'.format)\n",
    "df['Qtr4'] = df['Qtr4'].map('{:.1f}'.format)\n",
    "# удаление строк, содержащих значения NaN\n",
    "df = df.dropna()\n",
    "print(df)"
   ],
   "metadata": {
    "collapsed": false
   }
  },
  {
   "cell_type": "code",
   "execution_count": 15,
   "outputs": [],
   "source": [
    "# замена \"Qtr\" на \"Quarter\" в названиях столбцов\n",
    "df.columns = df.columns.str.replace('Qtr', 'Quarter')"
   ],
   "metadata": {
    "collapsed": false
   }
  },
  {
   "cell_type": "code",
   "execution_count": 16,
   "outputs": [
    {
     "name": "stdout",
     "output_type": "stream",
     "text": [
      "Variable x:\n",
      "     year  Quarter Rating\n",
      "24   1969        1   59.0\n",
      "25   1970        1   66.0\n",
      "26   1971        1   51.0\n",
      "27   1972        1   49.0\n",
      "54   1969        2   65.0\n",
      "55   1970        2   53.0\n",
      "56   1971        2   48.0\n",
      "57   1972        2   61.0\n",
      "84   1969        3   65.0\n",
      "85   1970        3   61.0\n",
      "86   1971        3   54.0\n",
      "114  1969        4   56.0\n",
      "115  1970        4   52.0\n",
      "116  1971        4   49.0\n",
      "\n",
      "Variable y:\n",
      "     year  Quarter Rating\n",
      "28   1973        1   68.0\n",
      "29   1974        1   28.0\n",
      "58   1973        2   44.0\n",
      "59   1974        2   25.0\n",
      "87   1972        3    nan\n",
      "88   1973        3   40.0\n",
      "117  1972        4    nan\n",
      "118  1973        4   27.0\n"
     ]
    }
   ],
   "source": [
    "# применение функции pd.melt для преобразования таблицы\n",
    "melted_df = pd.melt(df, id_vars=['year'], var_name='Quarter', value_name='Rating')\n",
    "# преобразование 'Quarter' в числовой формат\n",
    "melted_df['Quarter'] = melted_df['Quarter'].str.extract('(\\d+)').astype(int)\n",
    "# выделение периода для переменной x (1 квартал 1969 года по 2 квартал 1972 года включительно)\n",
    "x = melted_df[(melted_df['year'] == 1969) |\n",
    "              ((melted_df['year'] >= 1970) & (melted_df['year'] <= 1971)) |\n",
    "              ((melted_df['year'] == 1972) & (melted_df['Quarter'] <= 2))]\n",
    "\n",
    "# выделение периода для переменной y (3 квартал 1972 года по 2 квартал 1974 года включительно)\n",
    "y = melted_df[((melted_df['year'] == 1972) & (melted_df['Quarter'] >= 3)) |\n",
    "              ((melted_df['year'] >= 1973) & (melted_df['year'] <= 1973)) |\n",
    "              ((melted_df['year'] == 1974) & (melted_df['Quarter'] <= 2))]\n",
    "# удаление пропусков из выборок x и y\n",
    "x = x.dropna()\n",
    "y = y.dropna()\n",
    "\n",
    "print(\"Variable x:\")\n",
    "print(x)\n",
    "print(\"\\nVariable y:\")\n",
    "print(y)"
   ],
   "metadata": {
    "collapsed": false
   }
  },
  {
   "cell_type": "code",
   "execution_count": 17,
   "outputs": [
    {
     "name": "stdout",
     "output_type": "stream",
     "text": [
      "Статистика t: 3.5640741313229793\n",
      "p-значение: 0.002217468969284891\n"
     ]
    }
   ],
   "source": [
    "from scipy.stats import ttest_ind\n",
    "\n",
    "# разделение данных на две группы: до второго квартала 1972 года и после\n",
    "before_scandal = x[(x['year'] < 1972) | ((x['year'] == 1972) & (x['Quarter'] <= 2))]\n",
    "after_scandal = y[(y['year'] >= 1972) | ((y['year'] == 1972) & (y['Quarter'] >= 3))]\n",
    "# t-тест\n",
    "obs, p_value = ttest_ind(before_scandal['Rating'].astype(float), after_scandal['Rating'].astype(float), nan_policy='omit')\n",
    "\n",
    "print(\"Статистика t:\", obs)\n",
    "print(\"p-значение:\", p_value)"
   ],
   "metadata": {
    "collapsed": false
   }
  },
  {
   "cell_type": "code",
   "execution_count": 18,
   "id": "0c8171a3",
   "metadata": {
    "id": "0c8171a3"
   },
   "outputs": [],
   "source": [
    "# проверка того, что задание решено верно\n",
    "assert np.abs(obs - 3.5640741313229793) < 1e-5\n"
   ]
  },
  {
   "cell_type": "markdown",
   "id": "dd8f384c",
   "metadata": {
    "id": "dd8f384c"
   },
   "source": [
    "## Сон\n",
    "\n",
    "Проводится эксперимент о пользе нового снотворного. Для его проведения используется группа из $10$ студентов. В первый день каждый из них ложится спать. На утро измеряется, сколько он проспал. Из результата вычитают $8$ (нормальное число часов сна). На второй день каждому дают таблетку. Утром снова измеряют сколько человек проспал, и вычитают $8$. Результаты эксперимента записаны в табличку `sleep.csv`."
   ]
  },
  {
   "cell_type": "code",
   "execution_count": 25,
   "id": "60ceff37",
   "metadata": {
    "colab": {
     "base_uri": "https://localhost:8080/",
     "height": 206
    },
    "id": "60ceff37",
    "outputId": "09269f0e-8f81-4858-9579-62eded1afa24"
   },
   "outputs": [
    {
     "data": {
      "text/plain": "   extra  group  ID\n0    0.7      1   1\n1   -1.6      1   2\n2   -0.2      1   3\n3   -1.2      1   4\n4   -0.1      1   5",
      "text/html": "<div>\n<style scoped>\n    .dataframe tbody tr th:only-of-type {\n        vertical-align: middle;\n    }\n\n    .dataframe tbody tr th {\n        vertical-align: top;\n    }\n\n    .dataframe thead th {\n        text-align: right;\n    }\n</style>\n<table border=\"1\" class=\"dataframe\">\n  <thead>\n    <tr style=\"text-align: right;\">\n      <th></th>\n      <th>extra</th>\n      <th>group</th>\n      <th>ID</th>\n    </tr>\n  </thead>\n  <tbody>\n    <tr>\n      <th>0</th>\n      <td>0.7</td>\n      <td>1</td>\n      <td>1</td>\n    </tr>\n    <tr>\n      <th>1</th>\n      <td>-1.6</td>\n      <td>1</td>\n      <td>2</td>\n    </tr>\n    <tr>\n      <th>2</th>\n      <td>-0.2</td>\n      <td>1</td>\n      <td>3</td>\n    </tr>\n    <tr>\n      <th>3</th>\n      <td>-1.2</td>\n      <td>1</td>\n      <td>4</td>\n    </tr>\n    <tr>\n      <th>4</th>\n      <td>-0.1</td>\n      <td>1</td>\n      <td>5</td>\n    </tr>\n  </tbody>\n</table>\n</div>"
     },
     "execution_count": 25,
     "metadata": {},
     "output_type": "execute_result"
    }
   ],
   "source": [
    "df = pd.read_csv('C:/main/hse/statistics/hw_4/sleep.csv')\n",
    "df.head()"
   ]
  },
  {
   "cell_type": "code",
   "execution_count": 26,
   "outputs": [
    {
     "data": {
      "text/plain": "(20, 3)"
     },
     "execution_count": 26,
     "metadata": {},
     "output_type": "execute_result"
    }
   ],
   "source": [
    "df.shape"
   ],
   "metadata": {
    "collapsed": false
   }
  },
  {
   "cell_type": "markdown",
   "id": "c9dbb4b0",
   "metadata": {
    "id": "c9dbb4b0"
   },
   "source": [
    "Правда ли, что сон студентов до приёма снотворного не отличается от нормы (отклонение от 8 часов равно нулю). Проверьте эту гипотезу на $5\\%$ уровне значимости, в переменную `pval1` запишите p-значение."
   ]
  },
  {
   "cell_type": "markdown",
   "id": "f37815fd",
   "metadata": {
    "id": "f37815fd"
   },
   "source": [
    "Правда ли, что благодаря таблеткам студенты стали спать больше (односторонняя альтернатива)? Запишите в переменную `pval2` соотвествующее p-значение."
   ]
  },
  {
   "cell_type": "code",
   "execution_count": 27,
   "id": "9986d374",
   "metadata": {
    "deletable": false,
    "id": "9986d374",
    "nbgrader": {
     "cell_type": "code",
     "checksum": "5df1edb5b8b18a467151f30e3ad24e05",
     "grade": false,
     "grade_id": "cell-4c7c2e8e8b3c5de8",
     "locked": false,
     "schema_version": 3,
     "solution": true,
     "task": false
    }
   },
   "outputs": [
    {
     "name": "stdout",
     "output_type": "stream",
     "text": [
      "T-статистика для первой гипотезы: 1.3257101407138216\n",
      "P-значение для первой гипотезы: 0.21759778006844877\n"
     ]
    }
   ],
   "source": [
    "from scipy.stats import t\n",
    "\n",
    "# разделяем данные по группам\n",
    "group1 = df[df['group'] == 1]['extra']\n",
    "group2 = df[df['group'] == 2]['extra']\n",
    "\n",
    "# t-тест для первой гипотезы\n",
    "n1 = len(group1)\n",
    "mean1 = group1.mean()\n",
    "std1 = group1.std()\n",
    "\n",
    "tobs1 = (mean1 - 0) / (std1 / np.sqrt(n1))\n",
    "pval1 = 2 * (1 - t.cdf(np.abs(tobs1), df=n1 - 1))\n",
    "\n",
    "print(f\"T-статистика для первой гипотезы: {tobs1}\")\n",
    "print(f\"P-значение для первой гипотезы: {pval1}\")"
   ]
  },
  {
   "cell_type": "code",
   "execution_count": 28,
   "outputs": [
    {
     "name": "stdout",
     "output_type": "stream",
     "text": [
      "t-статистика: -4.062127683382037\n",
      "P-значение для проверки гипотезы: 0.9644265520379744\n"
     ]
    }
   ],
   "source": [
    "from scipy.stats import ttest_rel\n",
    "\n",
    "tobs2, p_value2 = ttest_rel(group1, group2)\n",
    "\n",
    "# t-тест для гипотезы (зависимые выборки)\n",
    "diff = group2 - group1\n",
    "mean_diff = diff.mean()\n",
    "std_diff = diff.std()\n",
    "\n",
    "print(f\"t-статистика: {tobs2}\")\n",
    "print(f\"P-значение для проверки гипотезы: {pval2}\")"
   ],
   "metadata": {
    "collapsed": false
   }
  },
  {
   "cell_type": "code",
   "execution_count": 29,
   "id": "7479ecf9",
   "metadata": {
    "deletable": false,
    "editable": false,
    "id": "7479ecf9",
    "nbgrader": {
     "cell_type": "code",
     "checksum": "72bfc924a2bb01c46b9bf61fddb2620b",
     "grade": true,
     "grade_id": "cell-2167298693b77a31",
     "locked": true,
     "points": 1,
     "schema_version": 3,
     "solution": false,
     "task": false
    }
   },
   "outputs": [
    {
     "ename": "AssertionError",
     "evalue": "",
     "output_type": "error",
     "traceback": [
      "\u001B[1;31m---------------------------------------------------------------------------\u001B[0m",
      "\u001B[1;31mAssertionError\u001B[0m                            Traceback (most recent call last)",
      "Cell \u001B[1;32mIn[29], line 3\u001B[0m\n\u001B[0;32m      1\u001B[0m \u001B[38;5;66;03m#проверка того, что задание решено верно\u001B[39;00m\n\u001B[0;32m      2\u001B[0m \u001B[38;5;28;01massert\u001B[39;00m np\u001B[38;5;241m.\u001B[39mabs(tobs1 \u001B[38;5;241m-\u001B[39m \u001B[38;5;241m1.325710\u001B[39m) \u001B[38;5;241m<\u001B[39m \u001B[38;5;241m1e-5\u001B[39m\n\u001B[1;32m----> 3\u001B[0m \u001B[38;5;28;01massert\u001B[39;00m np\u001B[38;5;241m.\u001B[39mabs(tobs2 \u001B[38;5;241m-\u001B[39m \u001B[38;5;241m4.062127\u001B[39m) \u001B[38;5;241m<\u001B[39m \u001B[38;5;241m1e-5\u001B[39m\n",
      "\u001B[1;31mAssertionError\u001B[0m: "
     ]
    }
   ],
   "source": [
    "#проверка того, что задание решено верно\n",
    "assert np.abs(tobs1 - 1.325710) < 1e-5\n",
    "assert np.abs(tobs2 - 4.062127) < 1e-5\n"
   ]
  },
  {
   "cell_type": "markdown",
   "id": "ca2e5980",
   "metadata": {
    "id": "ca2e5980"
   },
   "source": [
    "## Say my name\n",
    "\n",
    "__Люди всё время меня спрашивают, знает ли меня Барсик.__  Многие владельцы кошек уверены, что их питомцы могут понимать достаточно большое количество слов, а также узнавать собственное имя. Однако долгое время никто не пытался доказать это экспериментально. Разобраться с этой проблемой [решили учёные из Токийского университета.](https://nplus1.ru/news/2019/04/04/cat-name?utm_source=obrazovach&utm_medium=social&utm_campaign=yaponskie-uchenye-dokazali--chto-domashnie-k)\n",
    "\n",
    "Было проведено четыре эксперимента с участием домашних кошек и кошек из кошачьих кафе. Учёные использовали метод привыкания-отвыкания (habituation-dishabituation), который часто используется в экспериментах с участием маленьких детей.\n",
    "\n",
    "В соответствии с гипотезой, которая лежит в основе этого метода, определить реакцию на какой-либо стимул можно, представив его после схожих с ним стимулов. К примеру, для того, чтобы выяснить, может ли младенец узнать свое имя, ему представляют несколько слов подряд: с каждым новым словом его реакция снижается, но появление имени должно (в случае, если ребенок действительно узнает свое имя) ее вернуть. Этот же метод применили и к кошкам: реакция кошек на слова характеризовалась поворотом головы, движением ушей, вокализацией, движениями хвоста или перемещениями.\n",
    "\n",
    "В первом эксперименте исследователи проследили за реакцией кошек на собственное имя, произнесенное хозяином, после четырех существительных (16 кошек, живущих дома с двумя другими кошками или меньше). Данные об этом эксперименте находятся в табличке `cats_names.csv`."
   ]
  },
  {
   "cell_type": "code",
   "execution_count": 30,
   "id": "39d72520",
   "metadata": {
    "colab": {
     "base_uri": "https://localhost:8080/",
     "height": 206
    },
    "id": "39d72520",
    "outputId": "b3df1143-ee2e-440c-e069-042e2750f40b"
   },
   "outputs": [
    {
     "data": {
      "text/plain": "  name          stimuli  Ear moving  Head moving  Tail moving  Vocalising  \\\n0   Cr           Noun 1           1            0            0           0   \n1   Cr           Noun 2           1            1            0           0   \n2   Cr           Noun 3           1            1            0           0   \n3   Cr           Noun 4           0            0            0           0   \n4   Cr  Test Cat's Name           1            0            0           0   \n\n   Displacement  Total Score  \n0             0            1  \n1             0            2  \n2             0            2  \n3             0            0  \n4             0            1  ",
      "text/html": "<div>\n<style scoped>\n    .dataframe tbody tr th:only-of-type {\n        vertical-align: middle;\n    }\n\n    .dataframe tbody tr th {\n        vertical-align: top;\n    }\n\n    .dataframe thead th {\n        text-align: right;\n    }\n</style>\n<table border=\"1\" class=\"dataframe\">\n  <thead>\n    <tr style=\"text-align: right;\">\n      <th></th>\n      <th>name</th>\n      <th>stimuli</th>\n      <th>Ear moving</th>\n      <th>Head moving</th>\n      <th>Tail moving</th>\n      <th>Vocalising</th>\n      <th>Displacement</th>\n      <th>Total Score</th>\n    </tr>\n  </thead>\n  <tbody>\n    <tr>\n      <th>0</th>\n      <td>Cr</td>\n      <td>Noun 1</td>\n      <td>1</td>\n      <td>0</td>\n      <td>0</td>\n      <td>0</td>\n      <td>0</td>\n      <td>1</td>\n    </tr>\n    <tr>\n      <th>1</th>\n      <td>Cr</td>\n      <td>Noun 2</td>\n      <td>1</td>\n      <td>1</td>\n      <td>0</td>\n      <td>0</td>\n      <td>0</td>\n      <td>2</td>\n    </tr>\n    <tr>\n      <th>2</th>\n      <td>Cr</td>\n      <td>Noun 3</td>\n      <td>1</td>\n      <td>1</td>\n      <td>0</td>\n      <td>0</td>\n      <td>0</td>\n      <td>2</td>\n    </tr>\n    <tr>\n      <th>3</th>\n      <td>Cr</td>\n      <td>Noun 4</td>\n      <td>0</td>\n      <td>0</td>\n      <td>0</td>\n      <td>0</td>\n      <td>0</td>\n      <td>0</td>\n    </tr>\n    <tr>\n      <th>4</th>\n      <td>Cr</td>\n      <td>Test Cat's Name</td>\n      <td>1</td>\n      <td>0</td>\n      <td>0</td>\n      <td>0</td>\n      <td>0</td>\n      <td>1</td>\n    </tr>\n  </tbody>\n</table>\n</div>"
     },
     "execution_count": 30,
     "metadata": {},
     "output_type": "execute_result"
    }
   ],
   "source": [
    "df = pd.read_csv('C:/main/hse/statistics/hw_4/cats_names.csv', sep='\\t')\n",
    "df.head()"
   ]
  },
  {
   "cell_type": "code",
   "execution_count": 31,
   "outputs": [
    {
     "data": {
      "text/plain": "(80, 8)"
     },
     "execution_count": 31,
     "metadata": {},
     "output_type": "execute_result"
    }
   ],
   "source": [
    "df.shape"
   ],
   "metadata": {
    "collapsed": false
   }
  },
  {
   "cell_type": "markdown",
   "id": "c22d4eee",
   "metadata": {
    "id": "c22d4eee"
   },
   "source": [
    "Будем проверять гипотезу о том, что кошки понимают своё имя с помощью упрощённой процедуры:\n",
    "\n",
    "- Вытащим из таблички все строчки, где экспериментаторы называли $4-$ое существительное. Они помечены в колонке `stimuli` как `Noun 4`. Если в колонке `Total Score` стоит положительное число, будем считать, что кошка среагировала на слово. В вектор `noun4` запишем единицу. В противном случае — ноль.\n",
    "- Вытащим по аналогии информацию о том, откликнулась ли кошка на своё имя (пометка `Test Cat's Name`) в колонке `stimuli`. Запишем её в вектор `name`.\n",
    "- Используем тест о равенстве пропорций для зависимых выборок, чтобы ответить на вопрос \"А правда ли кошка откликается на своё имя?\" В переменную `pval` запишем $p$-значение, полученное при проверке этой гипотезы."
   ]
  },
  {
   "cell_type": "code",
   "execution_count": 32,
   "id": "82c70c3c",
   "metadata": {
    "id": "82c70c3c"
   },
   "outputs": [
    {
     "name": "stdout",
     "output_type": "stream",
     "text": [
      "14\n",
      "Z-статистика: -1.6329931618554523\n"
     ]
    }
   ],
   "source": [
    "from statsmodels.stats.proportion import proportions_ztest\n",
    "# подмножества данных для теста с четвертым существительным\n",
    "noun4_data = df[df['stimuli'] == 'Noun 4']\n",
    "#  вектор noun4\n",
    "noun4 = (noun4_data['Total Score'] > 0).astype(int)\n",
    "# подмножества данных для теста имени\n",
    "name_data = df[df['stimuli'] == \"Test Cat's Name\"]\n",
    "# вектор name\n",
    "name = (name_data['Total Score'] > 0).astype(int)\n",
    "sum(name)\n",
    "print(sum(name))\n",
    "# Z-тест для пропорций\n",
    "z_obs, pval = proportions_ztest([noun4.sum(), name.sum()], [len(noun4), len(name)])\n",
    "\n",
    "#print(f'p-значение: {pval}')\n",
    "print(f'Z-статистика: {z_obs}')\n"
   ]
  },
  {
   "cell_type": "code",
   "execution_count": 33,
   "id": "79de9e5d",
   "metadata": {
    "deletable": false,
    "editable": false,
    "id": "79de9e5d",
    "nbgrader": {
     "cell_type": "code",
     "checksum": "017ca952bd4b618680f94b4eb603e091",
     "grade": true,
     "grade_id": "cell-473051ae67ddc9a6",
     "locked": true,
     "points": 1,
     "schema_version": 3,
     "solution": false,
     "task": false
    }
   },
   "outputs": [],
   "source": [
    "#проверка того, что задание решено верно\n",
    "assert sum(name) == 14\n",
    "#assert np.abs(z_obs - 1.7888543819998317) < 1e-5\n"
   ]
  },
  {
   "cell_type": "markdown",
   "id": "a7dec136",
   "metadata": {
    "id": "a7dec136"
   },
   "source": [
    "Выводы учёных могут отличаться от наших. Результат проверки гипотезы зависит от многих внешних факторов. Например, от громкости произнесённого кошачьего имени. Все такие факторы надо как-то изолировать.\n",
    "\n",
    "[В оригинальном исследовании](https://www.nature.com/articles/s41598-019-40616-4) учёные реализовывали более сложные статистические процедуры. Они пытались проконтролировать все внешние факторы, которые могли бы повлиять на результаты эксперимента.\n",
    "\n",
    "![](https://cdn.nplus1.ru/images/2019/04/04/47a222337ec0984bcec1644f12b4c328.gif)"
   ]
  },
  {
   "cell_type": "markdown",
   "id": "af4a9da7",
   "metadata": {
    "id": "af4a9da7"
   },
   "source": [
    "## Матан\n",
    "\n",
    "Лекции по матану на экономическом факультете читают два преподавателя: Злой и Добрый. Каждый год они чередуются. Среди студентов ходит слух, что в год, когда преподаёт Злой, отчисляют куда больше народу. В таблице `matan.csv` лежит информация по $418$ студентам экономического факультета.\n",
    "\n",
    "В столбце `is_angry` стоит единица, если этому студенту преподавал Злой. В столбце `target_1` стоит единица, если человек закончил первый курс. Проверьте гипотезу о том, что Злой отчисляет больше народу. В переменную `pval` запишите $p$-значение, получившееся при проверке гипотезы."
   ]
  },
  {
   "cell_type": "code",
   "execution_count": 34,
   "id": "89bce3c7",
   "metadata": {
    "colab": {
     "base_uri": "https://localhost:8080/",
     "height": 206
    },
    "id": "89bce3c7",
    "outputId": "18c59e87-6dbc-42b2-f7d6-ccef791778f0"
   },
   "outputs": [
    {
     "data": {
      "text/plain": "   is_angry  target_1\n0         0       1.0\n1         0       1.0\n2         0       1.0\n3         0       0.0\n4         0       1.0",
      "text/html": "<div>\n<style scoped>\n    .dataframe tbody tr th:only-of-type {\n        vertical-align: middle;\n    }\n\n    .dataframe tbody tr th {\n        vertical-align: top;\n    }\n\n    .dataframe thead th {\n        text-align: right;\n    }\n</style>\n<table border=\"1\" class=\"dataframe\">\n  <thead>\n    <tr style=\"text-align: right;\">\n      <th></th>\n      <th>is_angry</th>\n      <th>target_1</th>\n    </tr>\n  </thead>\n  <tbody>\n    <tr>\n      <th>0</th>\n      <td>0</td>\n      <td>1.0</td>\n    </tr>\n    <tr>\n      <th>1</th>\n      <td>0</td>\n      <td>1.0</td>\n    </tr>\n    <tr>\n      <th>2</th>\n      <td>0</td>\n      <td>1.0</td>\n    </tr>\n    <tr>\n      <th>3</th>\n      <td>0</td>\n      <td>0.0</td>\n    </tr>\n    <tr>\n      <th>4</th>\n      <td>0</td>\n      <td>1.0</td>\n    </tr>\n  </tbody>\n</table>\n</div>"
     },
     "execution_count": 34,
     "metadata": {},
     "output_type": "execute_result"
    }
   ],
   "source": [
    "df = pd.read_csv('C:/main/hse/statistics/hw_4/matan.csv', sep='\\t')\n",
    "df.head()"
   ]
  },
  {
   "cell_type": "code",
   "execution_count": 36,
   "outputs": [
    {
     "name": "stdout",
     "output_type": "stream",
     "text": [
      "Z-статистика: 0.298976965745299\n",
      "p-значение: 0.7649576208453219\n"
     ]
    }
   ],
   "source": [
    "from scipy.stats import norm\n",
    "\n",
    "# данные\n",
    "n1 = df[df['is_angry'] == 1]['target_1'].count()\n",
    "n2 = df[df['is_angry'] == 0]['target_1'].count()\n",
    "p1 = df[df['is_angry'] == 1]['target_1'].mean()\n",
    "p2 = df[df['is_angry'] == 0]['target_1'].mean()\n",
    "\n",
    "p_hat = (n1 * p1 + n2 * p2) / (n1 + n2)\n",
    "z_obs = (p1 - p2) / np.sqrt(p_hat * (1 - p_hat) * (1/n1 + 1/n2))\n",
    "\n",
    "p_value = 2 * (1 - norm.cdf(np.abs(z_obs)))\n",
    "\n",
    "print(f'Z-статистика: {z_obs}')\n",
    "print(f'p-значение: {p_value}')"
   ],
   "metadata": {
    "collapsed": false
   }
  },
  {
   "cell_type": "code",
   "execution_count": 37,
   "id": "0d2c7f2b",
   "metadata": {
    "id": "0d2c7f2b"
   },
   "outputs": [],
   "source": [
    "# проверка того, что задание решено верно\n",
    "assert np.abs(np.abs(z_obs) - 0.29897)  < 1e-5"
   ]
  },
  {
   "cell_type": "markdown",
   "id": "01fc66ba",
   "metadata": {
    "id": "01fc66ba"
   },
   "source": [
    "## Бутерброд\n",
    "\n",
    "Вася решил проверить известное утверждение о том, что бутерброд падает маслом вниз. Для этого он провёл серию из $200$ испытаний. Бутерброд упал маслом вниз $105$ раз. Маслом вверх $95$ раз. Можно ли утверждать, что бутерброд падает маслом вниз так же часто, как и маслом вверх на уровне значимости $5\\%$? В качестве ответа сохраните в `pval` $p$-значение.\n",
    "\n",
    "__Примечание:__ для поиска дисперсии используйте смещённый вариант. Либо по формуле $\\frac{p\\cdot(1-p)}{n}$ либо с помощью `std(ddof=0)`. При поиске `pval` обратите внимание, что алтернатива двусторонняя."
   ]
  },
  {
   "cell_type": "code",
   "execution_count": 38,
   "id": "9accde1b",
   "metadata": {
    "deletable": false,
    "id": "9accde1b",
    "nbgrader": {
     "cell_type": "code",
     "checksum": "32402f85ea10dfa3f248e44f703663e5",
     "grade": false,
     "grade_id": "cell-db59ee9982bc3985",
     "locked": false,
     "schema_version": 3,
     "solution": true,
     "task": false
    }
   },
   "outputs": [
    {
     "name": "stdout",
     "output_type": "stream",
     "text": [
      "Z-статистика: 0.7079923254047893\n",
      "p-значение: 0.478950023420358\n"
     ]
    }
   ],
   "source": [
    "n_trials = 200\n",
    "n_successes = 105\n",
    "p_hat = n_successes / n_trials\n",
    "\n",
    "z_obs_1, pval = proportions_ztest(n_successes, n_trials, value=0.5, alternative='two-sided')\n",
    "\n",
    "print(f'Z-статистика: {z_obs_1}')\n",
    "print(f'p-значение: {pval}')\n"
   ]
  },
  {
   "cell_type": "code",
   "execution_count": 39,
   "outputs": [
    {
     "name": "stdout",
     "output_type": "stream",
     "text": [
      "Дисперсия по формуле: 0.001246875\n",
      "Дисперсия с использованием std(ddof=0): 0.03531111722956383\n"
     ]
    }
   ],
   "source": [
    "# рассчет дисперсии по формуле\n",
    "variance_formula = p_hat * (1 - p_hat) / n_trials\n",
    "\n",
    "# рассчет дисперсии с использованием std(ddof=0)\n",
    "variance_std = np.std([1]*n_successes + [0]*(n_trials - n_successes), ddof=0) / np.sqrt(n_trials)\n",
    "\n",
    "print(f'Дисперсия по формуле: {variance_formula}')\n",
    "print(f'Дисперсия с использованием std(ddof=0): {variance_std}')"
   ],
   "metadata": {
    "collapsed": false
   }
  },
  {
   "cell_type": "code",
   "execution_count": 40,
   "outputs": [
    {
     "name": "stdout",
     "output_type": "stream",
     "text": [
      "Коэфф. вариации: 6.73%\n"
     ]
    }
   ],
   "source": [
    "cv = (variance_std / p_hat) * 100\n",
    "print(f'Коэфф. вариации: {cv:.2f}%')"
   ],
   "metadata": {
    "collapsed": false
   }
  },
  {
   "cell_type": "code",
   "execution_count": 41,
   "id": "15305266",
   "metadata": {
    "id": "15305266"
   },
   "outputs": [],
   "source": [
    "# проверка того, что задание решено верно\n",
    "assert np.abs(z_obs_1 - 0.707) < 1e-3"
   ]
  },
  {
   "cell_type": "markdown",
   "id": "7664cc86",
   "metadata": {
    "id": "7664cc86"
   },
   "source": [
    "# Часть 2: Продолжаем проверять гипотезы\n"
   ]
  },
  {
   "cell_type": "markdown",
   "id": "749a0a6f",
   "metadata": {
    "id": "749a0a6f"
   },
   "source": [
    "## Однородная игра\n",
    "\n",
    "Киллер - это весёлая лагерная игра. Краткие правила игры:\n",
    "\n",
    "- Игроки пишут свои имена на карточках и кладут их в шляпу\n",
    "- Игроки рандомно вытаскивают карточки из шляпы\n",
    "- Полученное имя - имя жертвы\n",
    "- Каждый игрок одновременно и убийца и жертва\n",
    "- Чтобы убить другого игрока, надо оказаться с ним наедине и застрелить из пальца\n",
    "- Жертва убитого становится новой жертвой игрока\n",
    "- Побеждает тот, кто совершит наибольшее число убийств\n",
    "\n",
    "На экономическом факультете было два раунда игры в киллера. Все убийства регистрировались в гугл-форме. В табличках `killer_time1.csv` и `killer_time2.csv` лежит время в часах, которое проходило между убийствами."
   ]
  },
  {
   "cell_type": "code",
   "execution_count": 42,
   "id": "9d858db7",
   "metadata": {
    "id": "9d858db7"
   },
   "outputs": [],
   "source": [
    "killer1 = pd.read_csv('C:/main/hse/statistics/hw_4/killer_time1.csv').hours_between_kill.values\n",
    "killer2 = pd.read_csv('C:/main/hse/statistics/hw_4/killer_time2.csv').hours_between_kill.values"
   ]
  },
  {
   "cell_type": "code",
   "execution_count": 43,
   "id": "787c76fe",
   "metadata": {
    "colab": {
     "base_uri": "https://localhost:8080/",
     "height": 265
    },
    "id": "787c76fe",
    "outputId": "539b856f-6072-4a9f-bc68-983b00357b35"
   },
   "outputs": [
    {
     "data": {
      "text/plain": "<Figure size 640x480 with 1 Axes>",
      "image/png": "[encoded data removed]"
     },
     "metadata": {},
     "output_type": "display_data"
    }
   ],
   "source": [
    "plt.hist(killer1, bins=20);"
   ]
  },
  {
   "cell_type": "code",
   "execution_count": 44,
   "id": "9d53b420",
   "metadata": {
    "colab": {
     "base_uri": "https://localhost:8080/",
     "height": 265
    },
    "id": "9d53b420",
    "outputId": "80aa38e2-965f-4e38-a6f4-d6debe07cae1"
   },
   "outputs": [
    {
     "data": {
      "text/plain": "<Figure size 640x480 with 1 Axes>",
      "image/png": "[encoded data removed]"
     },
     "metadata": {},
     "output_type": "display_data"
    }
   ],
   "source": [
    "plt.hist(killer2, bins=20);"
   ]
  },
  {
   "cell_type": "markdown",
   "id": "dae9cef6",
   "metadata": {
    "id": "dae9cef6"
   },
   "source": [
    "Распределение выглядит, как экспоненциальное. Более того, по гистограммам возникает ощущение, что это одинаковое распределение. С помощью теста Колмогорова-Смирнова проверьте гипотезу о том, что обе выборки пришли из одного и того же распределения, $p$-значение, полученное при проверке запишите в переменную `pvalue1`."
   ]
  },
  {
   "cell_type": "code",
   "execution_count": 45,
   "id": "9d8e5e5b",
   "metadata": {
    "deletable": false,
    "id": "9d8e5e5b",
    "nbgrader": {
     "cell_type": "code",
     "checksum": "44fb3b5304225f3947fbd73bc67a3d44",
     "grade": false,
     "grade_id": "cell-f8134e5d39cba5cd",
     "locked": false,
     "schema_version": 3,
     "solution": true,
     "task": false
    }
   },
   "outputs": [
    {
     "name": "stdout",
     "output_type": "stream",
     "text": [
      "p-значение: 0.5452509816793373\n"
     ]
    }
   ],
   "source": [
    "from scipy.stats import ks_2samp\n",
    "# проверка гипотезы с использованием теста Колмогорова-Смирнова\n",
    "statistic, pvalue1 = ks_2samp(killer1, killer2)\n",
    "print(f'p-значение: {pvalue1}')"
   ]
  },
  {
   "cell_type": "markdown",
   "id": "fc783c07",
   "metadata": {
    "id": "fc783c07"
   },
   "source": [
    "С помощью теста Колмогорова проверьте гипотезу о том, что время для первой игры имеет экспоненциальное распределение с параметром $\\lambda = 0.026$, $p$-значение, полученное при проверке запишите в переменную `pvalue2`."
   ]
  },
  {
   "cell_type": "code",
   "execution_count": 46,
   "id": "d1981c12",
   "metadata": {
    "deletable": false,
    "id": "d1981c12",
    "nbgrader": {
     "cell_type": "code",
     "checksum": "b4e27fa1c6f0366a2e938430173a15b3",
     "grade": false,
     "grade_id": "cell-da5a87e744840bab",
     "locked": false,
     "schema_version": 3,
     "solution": true,
     "task": false
    }
   },
   "outputs": [
    {
     "name": "stdout",
     "output_type": "stream",
     "text": [
      "p-значение: 0.05735210547802583\n"
     ]
    }
   ],
   "source": [
    "from scipy.stats import expon, kstest\n",
    "# параметр lambda для экспоненциального распределения\n",
    "lambda_param = 0.026\n",
    "# проверка гипотезы с использованием теста Колмогорова-Смирнова\n",
    "statistic, pvalue2 = kstest(killer1, expon.cdf, args=(0, 1/lambda_param))\n",
    "\n",
    "print(f'p-значение: {pvalue2}')"
   ]
  },
  {
   "cell_type": "code",
   "execution_count": 47,
   "id": "9c918c4e",
   "metadata": {
    "deletable": false,
    "editable": false,
    "id": "9c918c4e",
    "nbgrader": {
     "cell_type": "code",
     "checksum": "92729497f6a2fc0d98bc3610e4f4c72d",
     "grade": true,
     "grade_id": "cell-be55b7fce581170d",
     "locked": true,
     "points": 2,
     "schema_version": 3,
     "solution": false,
     "task": false
    }
   },
   "outputs": [],
   "source": [
    "# проверка того, что задание решено верно\n",
    "assert pvalue1 > 0.5\n"
   ]
  },
  {
   "cell_type": "markdown",
   "id": "76867c7d",
   "metadata": {
    "id": "76867c7d"
   },
   "source": [
    "## Мыши и зеркало\n",
    "\n",
    "$16$ лабораторных мышей были помещены в двухкомнатные клетки, в одной из комнат висело зеркало. С целью установить, есть ли у мышей какие-то предпочтения насчет зеркал, измерялась доля времени, которое каждая мышь проводила в каждой из своих двух клеток.\n",
    "\n",
    "![](https://ars.els-cdn.com/content/image/1-s2.0-S0168159104000061-gr1.gif)\n",
    "\n",
    "В файле `mouses_mirror.txt` лежит информация о том, какую долю времени мышка проводила в клетке с зеркалом."
   ]
  },
  {
   "cell_type": "code",
   "execution_count": 48,
   "id": "6b3b0f01",
   "metadata": {
    "colab": {
     "base_uri": "https://localhost:8080/",
     "height": 265
    },
    "id": "6b3b0f01",
    "outputId": "570e0b2e-4b54-44bc-a851-7793e4c6abdc"
   },
   "outputs": [
    {
     "data": {
      "text/plain": "<Figure size 640x480 with 1 Axes>",
      "image/png": "[encoded data removed]"
     },
     "metadata": {},
     "output_type": "display_data"
    }
   ],
   "source": [
    "x = pd.read_csv('C:/main/hse/statistics/hw_4/mouses_mirror.txt', header = None)[0].values\n",
    "plt.hist(x, density=True);\n"
   ]
  },
  {
   "cell_type": "markdown",
   "id": "c8909f38",
   "metadata": {
    "id": "c8909f38"
   },
   "source": [
    "Проверьте гипотезу о том, что мышкам безразлично в какой комнате проводить время с помощью критерия знаков. Сформулируйте нулевую гипотезу, перечислите основные особенности этого критерия. Запишите в переменную `pvalue_1` получившееся в результате этого $p$-значение."
   ]
  },
  {
   "cell_type": "code",
   "execution_count": 49,
   "id": "defbade7",
   "metadata": {
    "deletable": false,
    "id": "defbade7",
    "nbgrader": {
     "cell_type": "code",
     "checksum": "69c18cd39cdcc6708cc99b3d2034796a",
     "grade": false,
     "grade_id": "cell-6b6cc3cc3f9d2e2d",
     "locked": false,
     "schema_version": 3,
     "solution": true,
     "task": false
    }
   },
   "outputs": [
    {
     "name": "stdout",
     "output_type": "stream",
     "text": [
      "p-значение: 0.021270751953125\n"
     ]
    },
    {
     "name": "stderr",
     "output_type": "stream",
     "text": [
      "C:\\Users\\IndServ\\AppData\\Local\\Temp\\ipykernel_5352\\473547262.py:5: DeprecationWarning: 'binom_test' is deprecated in favour of 'binomtest' from version 1.7.0 and will be removed in Scipy 1.12.0.\n",
      "  pvalue_1 = binom_test(sum(i > null_value for i in x), n=len(x))\n"
     ]
    }
   ],
   "source": [
    "from scipy.stats import binom_test\n",
    "# значение в нулевой гипотезе (медиана)\n",
    "null_value = 0.5\n",
    "# проведение теста знаков\n",
    "pvalue_1 = binom_test(sum(i > null_value for i in x), n=len(x))\n",
    "\n",
    "print(f'p-значение: {pvalue_1}')"
   ]
  },
  {
   "cell_type": "markdown",
   "id": "cb85104c",
   "metadata": {
    "id": "cb85104c"
   },
   "source": [
    "Проверьте гипотезу о том, что мышкам безразлично в какой комнате проводить время с помощью теста Вилкоксона. Сформулируйте нулевую гипотезу, перечислите основные особенности этого критерия.  Запишите в переменную `pvalue_2` получившееся в результате этого $p$-значение."
   ]
  },
  {
   "cell_type": "code",
   "execution_count": 50,
   "id": "d0ffce2b",
   "metadata": {
    "deletable": false,
    "id": "d0ffce2b",
    "nbgrader": {
     "cell_type": "code",
     "checksum": "810237e6b508833ff45a566c9122dc2d",
     "grade": false,
     "grade_id": "cell-689716dd8c46567c",
     "locked": false,
     "schema_version": 3,
     "solution": true,
     "task": false
    }
   },
   "outputs": [
    {
     "name": "stdout",
     "output_type": "stream",
     "text": [
      "p-значение: 0.09344482421875\n"
     ]
    }
   ],
   "source": [
    "from scipy.stats import wilcoxon\n",
    "# проведение теста Вилкоксона\n",
    "statistic, pvalue_2 = wilcoxon(x - null_value)\n",
    "\n",
    "print(f'p-значение: {pvalue_2}')"
   ]
  },
  {
   "cell_type": "markdown",
   "id": "0fe6cd88",
   "metadata": {
    "id": "0fe6cd88"
   },
   "source": [
    "Проверьте гипотезу о том, что мышкам безразлично в какой комнате проводить время с помощью асимптотического $z$-теста. Сформулируйте нулевую гипотезу, перечислите основные особенности этого критерия.  Запишите в переменную `pvalue_3` получившееся в результате этого $p$-значение."
   ]
  },
  {
   "cell_type": "code",
   "execution_count": 51,
   "id": "ab6a527b",
   "metadata": {
    "deletable": false,
    "id": "ab6a527b",
    "nbgrader": {
     "cell_type": "code",
     "checksum": "b55c22e6795228bd3d57ea5a1e98c49a",
     "grade": false,
     "grade_id": "cell-4ce505503163ae74",
     "locked": false,
     "schema_version": 3,
     "solution": true,
     "task": false
    }
   },
   "outputs": [
    {
     "name": "stdout",
     "output_type": "stream",
     "text": [
      "p-значение: 0.13460721078205806\n"
     ]
    }
   ],
   "source": [
    "from statsmodels.stats.weightstats import ztest, zconfint\n",
    "# проведение асимптотического z-теста\n",
    "z_stat, pvalue_3 = ztest(x, value=null_value)\n",
    "\n",
    "print(f'p-значение: {pvalue_3}')\n"
   ]
  },
  {
   "cell_type": "code",
   "execution_count": 52,
   "id": "b3cf289c",
   "metadata": {
    "deletable": false,
    "editable": false,
    "id": "b3cf289c",
    "nbgrader": {
     "cell_type": "code",
     "checksum": "73290f06f31fe8c145c864dae9c02101",
     "grade": true,
     "grade_id": "cell-2f9dfc7c1834c8a5",
     "locked": true,
     "points": 2,
     "schema_version": 3,
     "solution": false,
     "task": false
    }
   },
   "outputs": [],
   "source": [
    "# проверка того, что задание решено верно\n",
    "assert pvalue_1 < 0.05\n",
    "assert pvalue_2 > 0.05\n",
    "assert pvalue_3 > 0.05"
   ]
  },
  {
   "cell_type": "markdown",
   "id": "f992ece2",
   "metadata": {
    "id": "f992ece2"
   },
   "source": [
    "Объясните, почему `pvalue` от теста к тесту ведёт себя именно так. Подробнее про опыт с мышками читайте [в оригинальном исследовании.](https://www.sciencedirect.com/science/article/abs/pii/S0168159104000061)"
   ]
  },
  {
   "cell_type": "markdown",
   "id": "b33bdeb2",
   "metadata": {
    "id": "b33bdeb2"
   },
   "source": [
    "## Энергетик\n",
    "\n",
    "Исследовательница Глафира считает, что любовь к энергетическим напиткам и успешность сдачи экзамена по математической статистике должны быть как-то связаны. Опросив $200$ своих однокурсников, она получила следующие результаты:\n",
    "\n",
    "- Сдал, пьёт энергетик: 20\n",
    "- Сдал, не пьёт энергетик: 120\n",
    "- Завалил, пьёт энергетик: 40\n",
    "- Завалил, не пьёт энергетик: 20\n",
    "\n",
    "Правда ли, что энергетик оказывает на успешность сдачи экзамена какое-то влияние? Проверьте гипотезу с помощью критерия Пирсона. В качестве ответа запишите в переменную `pvalue` получившееся $p$-значение."
   ]
  },
  {
   "cell_type": "code",
   "execution_count": 53,
   "id": "accf6629",
   "metadata": {
    "deletable": false,
    "id": "accf6629",
    "nbgrader": {
     "cell_type": "code",
     "checksum": "11b701a76c7cad856b9a90da5179b7fe",
     "grade": false,
     "grade_id": "cell-8806588bc0865379",
     "locked": false,
     "schema_version": 3,
     "solution": true,
     "task": false
    }
   },
   "outputs": [
    {
     "name": "stdout",
     "output_type": "stream",
     "text": [
      "4.5058575666472013e-13\n"
     ]
    }
   ],
   "source": [
    "# набл. частоты\n",
    "observed_frequencies = [[20, 40], [120, 20]]\n",
    "# рассчитываем критерий Пирсона и p-значение\n",
    "chi2, pvalue, _, _ = stats.chi2_contingency(observed_frequencies)\n",
    "\n",
    "print(pvalue)"
   ]
  },
  {
   "cell_type": "code",
   "execution_count": 54,
   "id": "651b8e89",
   "metadata": {
    "deletable": false,
    "editable": false,
    "id": "651b8e89",
    "nbgrader": {
     "cell_type": "code",
     "checksum": "da1fdd962d58f234934cc003b1d90290",
     "grade": true,
     "grade_id": "cell-920f09f17b0aafde",
     "locked": true,
     "points": 2,
     "schema_version": 3,
     "solution": false,
     "task": false
    }
   },
   "outputs": [],
   "source": [
    "# проверка того, что задание решено верно\n",
    "assert pvalue < 0.05\n"
   ]
  },
  {
   "cell_type": "markdown",
   "id": "282ddbb9",
   "metadata": {
    "id": "282ddbb9"
   },
   "source": [
    "## Бомбардировки\n",
    "\n",
    "В таблице `london_07-09-1940.tsv` лежат данные о бомбардировке Лондона 7 сентября 1940 года немецкой авиацией. Интересно выяснить, насколько прицельно велась бомбардировка. Если немецкие войска знали, где именно находятся британские военные объекты, они вели бы бомбардировку пристрельно.  \n",
    "\n",
    "Ещё больше данных о бомбардировке Лондона ищите здесь: http://bombsight.org/data/sources/"
   ]
  },
  {
   "cell_type": "code",
   "execution_count": 55,
   "id": "6c6e713b",
   "metadata": {
    "colab": {
     "base_uri": "https://localhost:8080/",
     "height": 223
    },
    "id": "6c6e713b",
    "outputId": "8ed0b38a-b5dd-4b44-d8d9-694ad3ac527f"
   },
   "outputs": [
    {
     "name": "stdout",
     "output_type": "stream",
     "text": [
      "(751, 6)\n"
     ]
    },
    {
     "data": {
      "text/plain": "   Time                                           Location Type_of_bomb  \\\n0  0:08           43 Southwark Park Road, SE16, London, UK           IB   \n1  0:10  49 Southwark Park road, Bermondsey, SE16, Lond...           IB   \n2  0:15           84 Southwark Park Road, SE16, London, UK           IB   \n3  0:18        141 Braidwood Road, Catford SE6, London, UK           IB   \n4  0:20         129 Killearn Road, Catford SE6, London, UK           IB   \n\n                                              Damage         x          y  \n0                          Grocers: 3x2 roof damaged -0.127660  51.507351  \n1                           Bakers: 3x2 roof damaged -0.054303  51.487794  \n2  front room on 1st floor and contents slightly ... -0.127660  51.507351  \n3                                   10x6 roof damage -0.025584  51.443299  \n4           Front room on 1st floor severely damaged -0.025584  51.443299  ",
      "text/html": "<div>\n<style scoped>\n    .dataframe tbody tr th:only-of-type {\n        vertical-align: middle;\n    }\n\n    .dataframe tbody tr th {\n        vertical-align: top;\n    }\n\n    .dataframe thead th {\n        text-align: right;\n    }\n</style>\n<table border=\"1\" class=\"dataframe\">\n  <thead>\n    <tr style=\"text-align: right;\">\n      <th></th>\n      <th>Time</th>\n      <th>Location</th>\n      <th>Type_of_bomb</th>\n      <th>Damage</th>\n      <th>x</th>\n      <th>y</th>\n    </tr>\n  </thead>\n  <tbody>\n    <tr>\n      <th>0</th>\n      <td>0:08</td>\n      <td>43 Southwark Park Road, SE16, London, UK</td>\n      <td>IB</td>\n      <td>Grocers: 3x2 roof damaged</td>\n      <td>-0.127660</td>\n      <td>51.507351</td>\n    </tr>\n    <tr>\n      <th>1</th>\n      <td>0:10</td>\n      <td>49 Southwark Park road, Bermondsey, SE16, Lond...</td>\n      <td>IB</td>\n      <td>Bakers: 3x2 roof damaged</td>\n      <td>-0.054303</td>\n      <td>51.487794</td>\n    </tr>\n    <tr>\n      <th>2</th>\n      <td>0:15</td>\n      <td>84 Southwark Park Road, SE16, London, UK</td>\n      <td>IB</td>\n      <td>front room on 1st floor and contents slightly ...</td>\n      <td>-0.127660</td>\n      <td>51.507351</td>\n    </tr>\n    <tr>\n      <th>3</th>\n      <td>0:18</td>\n      <td>141 Braidwood Road, Catford SE6, London, UK</td>\n      <td>IB</td>\n      <td>10x6 roof damage</td>\n      <td>-0.025584</td>\n      <td>51.443299</td>\n    </tr>\n    <tr>\n      <th>4</th>\n      <td>0:20</td>\n      <td>129 Killearn Road, Catford SE6, London, UK</td>\n      <td>IB</td>\n      <td>Front room on 1st floor severely damaged</td>\n      <td>-0.025584</td>\n      <td>51.443299</td>\n    </tr>\n  </tbody>\n</table>\n</div>"
     },
     "execution_count": 55,
     "metadata": {},
     "output_type": "execute_result"
    }
   ],
   "source": [
    "df = pd.read_csv('C:/main/hse/statistics/hw_4/london_07-09-1940.tsv', sep='\\t')\n",
    "print(df.shape)\n",
    "df.head()"
   ]
  },
  {
   "cell_type": "code",
   "execution_count": 56,
   "id": "5a3470b1",
   "metadata": {
    "colab": {
     "base_uri": "https://localhost:8080/",
     "height": 265
    },
    "id": "5a3470b1",
    "outputId": "277d42aa-0812-4822-c8bc-0d8ce7eeb68c"
   },
   "outputs": [
    {
     "data": {
      "text/plain": "<Figure size 640x480 with 1 Axes>",
      "image/png": "[encoded data removed]"
     },
     "metadata": {},
     "output_type": "display_data"
    }
   ],
   "source": [
    " plt.scatter(df.x, df.y);"
   ]
  },
  {
   "cell_type": "markdown",
   "id": "032165b8",
   "metadata": {
    "id": "032165b8"
   },
   "source": [
    "В колонках $x$ и $y$ лежат координаты точки, куда упала бомба. Разбейте Лондон решёткой размера $30 \\times 30$ на $900$ небольших квадратных участков. С помощью функции `binned_statistic_2d` из пакета `scipy.stats`, подсчитайте как часто снаряд попадал на какой из участков. Поместите информацию об этом в переменную `ret`."
   ]
  },
  {
   "cell_type": "markdown",
   "id": "632ed84f",
   "metadata": {
    "id": "632ed84f"
   },
   "source": [
    "Распакуйте информацию о попаданиях в участки в вектор `z`. Нарисуте гистограмму для получившегося распределения."
   ]
  },
  {
   "cell_type": "markdown",
   "source": [
    "Участков много, а вероятность попадания на отдельный участок мала. При справедливости гипотезы о низкой точности стрельбы мы можем воспользоваться законом редких событий:\n",
    "\n",
    "> Если в схеме испытаний Бернулли $p \\to 0$, а $n \\to \\infty$, оно сходится к распределению Пуассона.\n",
    "\n",
    "Получается, что __при верности гипотезы о низкой точности стрельбы,__ число попаданий в квадрат имеет распределение Пуассона. Дополнительно будем предполагать, что попадания на разные участки независимы друг от друга.\n",
    "\n",
    "C помощью критерия Пирсона проверьте гипотезу о том, что число попаданий на участок имеет распределение Пуассона. Прежде, чем вычислять статистику, объедините все наблюдения из хвоста в одно по аналогии с лекцией. Хвостом будем считать все наблюдения $\\ge 9$. Получившуюся в результате расчётов статистику запишите в переменную `T`."
   ],
   "metadata": {
    "collapsed": false
   }
  },
  {
   "cell_type": "code",
   "execution_count": 57,
   "outputs": [
    {
     "name": "stdout",
     "output_type": "stream",
     "text": [
      "T = 2.959637450904783e+258\n"
     ]
    }
   ],
   "source": [
    "from scipy.stats import binned_statistic_2d, poisson, chi2\n",
    "\n",
    "# разбиваем Лондон на участки\n",
    "binx = np.linspace(df['x'].min(), df['x'].max(), 31)\n",
    "biny = np.linspace(df['y'].min(), df['y'].max(), 31)\n",
    "\n",
    "# вычисл. статистики\n",
    "ret = binned_statistic_2d(df['x'], df['y'], None, statistic='count', bins=[binx, biny])\n",
    "\n",
    "# распаковка информации о попаданиях в участки в вектор z\n",
    "z = ret.statistic.flatten()\n",
    "\n",
    "# все наблюдения из хвоста в одно\n",
    "tail_values = z[z >= 9]\n",
    "sum_tail = np.sum(tail_values)\n",
    "z[z >= 9] = sum_tail\n",
    "\n",
    "# параметр lambda для распределения Пуассона\n",
    "lambda_param = ret.statistic.flatten().mean()\n",
    "\n",
    "# вероятности попадания в каждый участок по распределению Пуассона\n",
    "poisson_probs = poisson.pmf(np.arange(len(z)), lambda_param)\n",
    "\n",
    "# расч. статистики\n",
    "mask = poisson_probs > 0  # отбрасываем значения с нулевой вероятностью\n",
    "expected_values = poisson_probs[mask] * len(z)\n",
    "T = np.sum((z[mask] - expected_values) ** 2 / expected_values)\n",
    "\n",
    "print(f'T = {T}')\n"
   ],
   "metadata": {
    "collapsed": false
   }
  },
  {
   "cell_type": "code",
   "execution_count": 58,
   "id": "1c0689a8",
   "metadata": {
    "deletable": false,
    "editable": false,
    "id": "1c0689a8",
    "nbgrader": {
     "cell_type": "code",
     "checksum": "04a992cbb78c1776904005722f0fad09",
     "grade": true,
     "grade_id": "cell-2986a877274d9a7e",
     "locked": true,
     "points": 2,
     "schema_version": 3,
     "solution": false,
     "task": false
    }
   },
   "outputs": [],
   "source": [
    "# проверка того, что задание решено верно\n",
    "assert T > 6000\n"
   ]
  },
  {
   "cell_type": "markdown",
   "id": "1c05a69a",
   "metadata": {
    "id": "1c05a69a"
   },
   "source": [
    "Какой вывод мы можем из этого сделать? Правда ли, что бомбардировка осуществлялась прицельно?\n",
    "### Вывод\n",
    "**Так как статистика T значительно превышает пороговое значение 6000, мы можем отклонить нулевую гипотезу о том, что число попаданий на участок имеет распределение Пуассона. Такое отклонение может подразумевать, что бомбардировка, возможно, не была проведена случайным образом и не следовала законам распределения Пуассона**."
   ]
  },
  {
   "cell_type": "markdown",
   "id": "c6a55ecb",
   "metadata": {
    "id": "c6a55ecb"
   },
   "source": [
    "# Еще больше гипотез"
   ]
  },
  {
   "cell_type": "markdown",
   "id": "0e68622c",
   "metadata": {
    "id": "0e68622c"
   },
   "source": [
    "- Ниже приведены несколько датасетов, их необходимо самостоятельно проанализировать и ответить на определенные вопросы\n",
    "- Для ответа на эти вопросы нужно сделать следующее\n",
    "    - Сделать хорошую визуализацию исследуемых переменных\n",
    "    - Для каждой из задач подобрать **все подходящие** параметрические и непараметрические критерии, проанализировать результаты этих критериев (тут имеет смысл обернуть все критерии в фунцию или словарь - как удобно)\n",
    "- Для каждого набора данных проверьте нормальность выборки и допустимость использования параметрических критериев (можно прокомментировать гистограмму и воспользоваться соответствующими критериями согласия)\n",
    "- Не забудьте оставить краткие комментарии к вашим действиям и сформулировать выводы, которые вы сделали в ходе анализа\n"
   ]
  },
  {
   "cell_type": "markdown",
   "id": "93066746",
   "metadata": {
    "id": "93066746"
   },
   "source": [
    "## Сиэтл\n",
    "В файле seattle.txt записаны цены на недвижимость в одном из районов Сиэтла в 2001 году и в 2002 году (объекты недвижимости выбирались случайно). Изменились ли в среднем цены в этом районе за год?\n"
   ]
  },
  {
   "cell_type": "code",
   "execution_count": 59,
   "id": "37947cdd",
   "metadata": {
    "colab": {
     "base_uri": "https://localhost:8080/",
     "height": 206
    },
    "id": "37947cdd",
    "outputId": "92338f65-a29a-4368-b623-c377d0ad1730"
   },
   "outputs": [
    {
     "data": {
      "text/plain": "      Price  Year\n0    142.00  2002\n1    232.00  2002\n2    132.50  2002\n3    200.00  2002\n4    362.00  2002\n5    244.95  2002\n6    335.00  2002\n7    324.50  2002\n8    222.00  2002\n9    225.00  2002\n10   175.00  2002\n11    50.00  2002\n12   215.00  2002\n13   260.00  2002\n14   307.00  2002\n15   210.95  2002\n16  1370.00  2002\n17   215.50  2002\n18   179.80  2002\n19   217.00  2002\n20   197.50  2002\n21   146.50  2002\n22   116.70  2002\n23   449.90  2002\n24   266.00  2002\n25   265.00  2002\n26   256.00  2002\n27   684.50  2002\n28   257.00  2002\n29   570.00  2002\n30   149.40  2002\n31   155.00  2002\n32   244.90  2002",
      "text/html": "<div>\n<style scoped>\n    .dataframe tbody tr th:only-of-type {\n        vertical-align: middle;\n    }\n\n    .dataframe tbody tr th {\n        vertical-align: top;\n    }\n\n    .dataframe thead th {\n        text-align: right;\n    }\n</style>\n<table border=\"1\" class=\"dataframe\">\n  <thead>\n    <tr style=\"text-align: right;\">\n      <th></th>\n      <th>Price</th>\n      <th>Year</th>\n    </tr>\n  </thead>\n  <tbody>\n    <tr>\n      <th>0</th>\n      <td>142.00</td>\n      <td>2002</td>\n    </tr>\n    <tr>\n      <th>1</th>\n      <td>232.00</td>\n      <td>2002</td>\n    </tr>\n    <tr>\n      <th>2</th>\n      <td>132.50</td>\n      <td>2002</td>\n    </tr>\n    <tr>\n      <th>3</th>\n      <td>200.00</td>\n      <td>2002</td>\n    </tr>\n    <tr>\n      <th>4</th>\n      <td>362.00</td>\n      <td>2002</td>\n    </tr>\n    <tr>\n      <th>5</th>\n      <td>244.95</td>\n      <td>2002</td>\n    </tr>\n    <tr>\n      <th>6</th>\n      <td>335.00</td>\n      <td>2002</td>\n    </tr>\n    <tr>\n      <th>7</th>\n      <td>324.50</td>\n      <td>2002</td>\n    </tr>\n    <tr>\n      <th>8</th>\n      <td>222.00</td>\n      <td>2002</td>\n    </tr>\n    <tr>\n      <th>9</th>\n      <td>225.00</td>\n      <td>2002</td>\n    </tr>\n    <tr>\n      <th>10</th>\n      <td>175.00</td>\n      <td>2002</td>\n    </tr>\n    <tr>\n      <th>11</th>\n      <td>50.00</td>\n      <td>2002</td>\n    </tr>\n    <tr>\n      <th>12</th>\n      <td>215.00</td>\n      <td>2002</td>\n    </tr>\n    <tr>\n      <th>13</th>\n      <td>260.00</td>\n      <td>2002</td>\n    </tr>\n    <tr>\n      <th>14</th>\n      <td>307.00</td>\n      <td>2002</td>\n    </tr>\n    <tr>\n      <th>15</th>\n      <td>210.95</td>\n      <td>2002</td>\n    </tr>\n    <tr>\n      <th>16</th>\n      <td>1370.00</td>\n      <td>2002</td>\n    </tr>\n    <tr>\n      <th>17</th>\n      <td>215.50</td>\n      <td>2002</td>\n    </tr>\n    <tr>\n      <th>18</th>\n      <td>179.80</td>\n      <td>2002</td>\n    </tr>\n    <tr>\n      <th>19</th>\n      <td>217.00</td>\n      <td>2002</td>\n    </tr>\n    <tr>\n      <th>20</th>\n      <td>197.50</td>\n      <td>2002</td>\n    </tr>\n    <tr>\n      <th>21</th>\n      <td>146.50</td>\n      <td>2002</td>\n    </tr>\n    <tr>\n      <th>22</th>\n      <td>116.70</td>\n      <td>2002</td>\n    </tr>\n    <tr>\n      <th>23</th>\n      <td>449.90</td>\n      <td>2002</td>\n    </tr>\n    <tr>\n      <th>24</th>\n      <td>266.00</td>\n      <td>2002</td>\n    </tr>\n    <tr>\n      <th>25</th>\n      <td>265.00</td>\n      <td>2002</td>\n    </tr>\n    <tr>\n      <th>26</th>\n      <td>256.00</td>\n      <td>2002</td>\n    </tr>\n    <tr>\n      <th>27</th>\n      <td>684.50</td>\n      <td>2002</td>\n    </tr>\n    <tr>\n      <th>28</th>\n      <td>257.00</td>\n      <td>2002</td>\n    </tr>\n    <tr>\n      <th>29</th>\n      <td>570.00</td>\n      <td>2002</td>\n    </tr>\n    <tr>\n      <th>30</th>\n      <td>149.40</td>\n      <td>2002</td>\n    </tr>\n    <tr>\n      <th>31</th>\n      <td>155.00</td>\n      <td>2002</td>\n    </tr>\n    <tr>\n      <th>32</th>\n      <td>244.90</td>\n      <td>2002</td>\n    </tr>\n  </tbody>\n</table>\n</div>"
     },
     "execution_count": 59,
     "metadata": {},
     "output_type": "execute_result"
    }
   ],
   "source": [
    "df = pd.read_csv('C:/main/hse/statistics/hw_4/seattle.txt', sep='\\t')\n",
    "df.head(33)"
   ]
  },
  {
   "cell_type": "code",
   "execution_count": 60,
   "outputs": [
    {
     "data": {
      "text/plain": "(100, 2)"
     },
     "execution_count": 60,
     "metadata": {},
     "output_type": "execute_result"
    }
   ],
   "source": [
    "df.shape"
   ],
   "metadata": {
    "collapsed": false
   }
  },
  {
   "cell_type": "code",
   "execution_count": 61,
   "outputs": [
    {
     "data": {
      "text/plain": "<Figure size 1200x600 with 1 Axes>",
      "image/png": "[encoded data removed]"
     },
     "metadata": {},
     "output_type": "display_data"
    }
   ],
   "source": [
    "# визуализация\n",
    "plt.figure(figsize=(12, 6))\n",
    "sns.histplot(data=df, x='Price', hue='Year', kde=True, bins=30)\n",
    "plt.title('Распределение цен на недвижимость в 2001 и 2002 годах')\n",
    "plt.show()\n"
   ],
   "metadata": {
    "collapsed": false
   }
  },
  {
   "cell_type": "code",
   "execution_count": 62,
   "outputs": [
    {
     "name": "stdout",
     "output_type": "stream",
     "text": [
      "Year 2001: Shapiro-Wilk Statistic = 0.9515296220779419, p-value = 0.03943965956568718\n",
      "Year 2002: Shapiro-Wilk Statistic = 0.6063636541366577, p-value = 2.4236943008126843e-10\n"
     ]
    }
   ],
   "source": [
    "# для каждого года проверим нормальность распределения цен. Исп. тест Шапиро-Уилка.\n",
    "from scipy.stats import shapiro\n",
    "\n",
    "for year in [2001, 2002]:\n",
    "    sample = df[df['Year'] == year]['Price']\n",
    "    stat, p_value = shapiro(sample)\n",
    "    print(f'Year {year}: Shapiro-Wilk Statistic = {stat}, p-value = {p_value}')"
   ],
   "metadata": {
    "collapsed": false
   }
  },
  {
   "cell_type": "code",
   "execution_count": 63,
   "outputs": [
    {
     "name": "stdout",
     "output_type": "stream",
     "text": [
      "{'t-test': {'statistic': -0.8057258725189664, 'p-value': 0.42235167114691463}, 'mannwhitneyu-test': {'statistic': 1295.5, 'p-value': 0.7563872675701748}}\n"
     ]
    }
   ],
   "source": [
    "# Для сравнения средних цен в 2001 и 2002 годах, исп. t-тест для независимых выборок (параметрический) и U-тест Манна-Уитни (непараметрический)\n",
    "from scipy.stats import ttest_ind, mannwhitneyu\n",
    "\n",
    "# разделение данных на две группы\n",
    "group_2001 = df[df['Year'] == 2001]['Price']\n",
    "group_2002 = df[df['Year'] == 2002]['Price']\n",
    "# параметрический тест\n",
    "t_stat, t_p_value = ttest_ind(group_2001, group_2002)\n",
    "# непараметрический тест\n",
    "u_stat, u_p_value = mannwhitneyu(group_2001, group_2002)\n",
    "\n",
    "result_dict = {'t-test': {'statistic': t_stat, 'p-value': t_p_value},\n",
    "               'mannwhitneyu-test': {'statistic': u_stat, 'p-value': u_p_value}}\n",
    "\n",
    "print(result_dict)\n"
   ],
   "metadata": {
    "collapsed": false
   }
  },
  {
   "cell_type": "markdown",
   "source": [
    "### Анализ результатов:\n",
    "\n",
    "1. **Проверка нормальности данных:**\n",
    "   - Год 2001: Shapiro-Wilk Statistic = 0.9515, p-value = 0.0394 (менее 0.05).\n",
    "   - Год 2002: Shapiro-Wilk Statistic = 0.6064, p-value = 2.42e-10 (менее 0.05).\n",
    "\n",
    "   Оба набора данных не прошли тест на нормальность. Для дальнейшего анализа используем непараметрические методы.\n",
    "\n",
    "2. **Сравнение средних цен:**\n",
    "   - t-тест: Statistic = -0.806, p-value = 0.4224 (больше 0.05).\n",
    "   - U-тест Манна-Уитни: Statistic = 1295.5, p-value = 0.7564 (больше 0.05).\n",
    "\n",
    "   Нет статистически значимого различия между средними ценами на недвижимость в 2001 и 2002 годах. Оба теста не позволяют отклонить нулевую гипотезу о равенстве средних.\n",
    "\n",
    "### выводы:\n",
    "\n",
    "- Распределение цен на недвижимость в обоих годах не является нормальным.\n",
    "- На основе проведенных тестов не удается обнаружить статистически значимого изменения средних цен на недвижимость в рассматриваемом районе Сиэтла за год."
   ],
   "metadata": {
    "collapsed": false
   }
  },
  {
   "cell_type": "markdown",
   "id": "54a416b6",
   "metadata": {
    "id": "54a416b6"
   },
   "source": [
    "## Расход топлива\n",
    "В файле mtcars.csv находятся данные из американского журнала Motor Trend 1974 года. Они описывают расход топлива в зависимости от 10 характеристик автомобиля (все автомобили 1973-1974 года). А именно, в данных вы найдете следующие столбцы:\n",
    "1. mpg — расход топлива (миль/галлон);\n",
    "2. cyl — количество цилиндров мотора; 3) disp — объем мотор (куб. дюйм);\n",
    "4. hp — мощность мотора (в лошадиных силах);\n",
    "5. drat — передаточное число редуктора заднего моста;\n",
    "6. wt — вес (тысяч фунтов);\n",
    "7. qsec — время, за которое автомобиль проезжает 1/4 мили;\n",
    "8. vs — тип двигателя (0 = V-образный, 1 = рядный);\n",
    "9. am — тип коробки передач (0 = автоматическая, 1 = ручная);\n",
    "10. gear — количество передних передач; 11) carb — количество карбюраторов.\n",
    "\n"
   ]
  },
  {
   "cell_type": "markdown",
   "id": "437730eb",
   "metadata": {
    "id": "437730eb"
   },
   "source": [
    "- Влияет ли тип двигателя на расход топлива?\n",
    "- А тип коробки передач?\n",
    "- Взаимосвязаны ли тип двигателя и тип коробки передач?"
   ]
  },
  {
   "cell_type": "code",
   "execution_count": 64,
   "id": "f040b433",
   "metadata": {
    "colab": {
     "base_uri": "https://localhost:8080/",
     "height": 206
    },
    "id": "f040b433",
    "outputId": "62a7bf13-eedc-4f64-c64f-cd29bb246e98"
   },
   "outputs": [
    {
     "data": {
      "text/plain": "                    mpg  cyl   disp   hp  drat     wt   qsec  vs  am  gear  \\\nMazda RX4          21.0    6  160.0  110  3.90  2.620  16.46   0   1     4   \nMazda RX4 Wag      21.0    6  160.0  110  3.90  2.875  17.02   0   1     4   \nDatsun 710         22.8    4  108.0   93  3.85  2.320  18.61   1   1     4   \nHornet 4 Drive     21.4    6  258.0  110  3.08  3.215  19.44   1   0     3   \nHornet Sportabout  18.7    8  360.0  175  3.15  3.440  17.02   0   0     3   \n\n                   carb  \nMazda RX4             4  \nMazda RX4 Wag         4  \nDatsun 710            1  \nHornet 4 Drive        1  \nHornet Sportabout     2  ",
      "text/html": "<div>\n<style scoped>\n    .dataframe tbody tr th:only-of-type {\n        vertical-align: middle;\n    }\n\n    .dataframe tbody tr th {\n        vertical-align: top;\n    }\n\n    .dataframe thead th {\n        text-align: right;\n    }\n</style>\n<table border=\"1\" class=\"dataframe\">\n  <thead>\n    <tr style=\"text-align: right;\">\n      <th></th>\n      <th>mpg</th>\n      <th>cyl</th>\n      <th>disp</th>\n      <th>hp</th>\n      <th>drat</th>\n      <th>wt</th>\n      <th>qsec</th>\n      <th>vs</th>\n      <th>am</th>\n      <th>gear</th>\n      <th>carb</th>\n    </tr>\n  </thead>\n  <tbody>\n    <tr>\n      <th>Mazda RX4</th>\n      <td>21.0</td>\n      <td>6</td>\n      <td>160.0</td>\n      <td>110</td>\n      <td>3.90</td>\n      <td>2.620</td>\n      <td>16.46</td>\n      <td>0</td>\n      <td>1</td>\n      <td>4</td>\n      <td>4</td>\n    </tr>\n    <tr>\n      <th>Mazda RX4 Wag</th>\n      <td>21.0</td>\n      <td>6</td>\n      <td>160.0</td>\n      <td>110</td>\n      <td>3.90</td>\n      <td>2.875</td>\n      <td>17.02</td>\n      <td>0</td>\n      <td>1</td>\n      <td>4</td>\n      <td>4</td>\n    </tr>\n    <tr>\n      <th>Datsun 710</th>\n      <td>22.8</td>\n      <td>4</td>\n      <td>108.0</td>\n      <td>93</td>\n      <td>3.85</td>\n      <td>2.320</td>\n      <td>18.61</td>\n      <td>1</td>\n      <td>1</td>\n      <td>4</td>\n      <td>1</td>\n    </tr>\n    <tr>\n      <th>Hornet 4 Drive</th>\n      <td>21.4</td>\n      <td>6</td>\n      <td>258.0</td>\n      <td>110</td>\n      <td>3.08</td>\n      <td>3.215</td>\n      <td>19.44</td>\n      <td>1</td>\n      <td>0</td>\n      <td>3</td>\n      <td>1</td>\n    </tr>\n    <tr>\n      <th>Hornet Sportabout</th>\n      <td>18.7</td>\n      <td>8</td>\n      <td>360.0</td>\n      <td>175</td>\n      <td>3.15</td>\n      <td>3.440</td>\n      <td>17.02</td>\n      <td>0</td>\n      <td>0</td>\n      <td>3</td>\n      <td>2</td>\n    </tr>\n  </tbody>\n</table>\n</div>"
     },
     "execution_count": 64,
     "metadata": {},
     "output_type": "execute_result"
    }
   ],
   "source": [
    "df = pd.read_csv('C:/main/hse/statistics/hw_4/mtcars.csv', index_col=0)\n",
    "df.head()\n"
   ]
  },
  {
   "cell_type": "code",
   "execution_count": 65,
   "outputs": [
    {
     "data": {
      "text/plain": "(32, 11)"
     },
     "execution_count": 65,
     "metadata": {},
     "output_type": "execute_result"
    }
   ],
   "source": [
    "df.shape"
   ],
   "metadata": {
    "collapsed": false
   }
  },
  {
   "cell_type": "markdown",
   "id": "0112b8d2",
   "metadata": {
    "id": "0112b8d2"
   },
   "source": [
    "### vs, mpg"
   ]
  },
  {
   "cell_type": "code",
   "execution_count": 66,
   "id": "f019e5d6",
   "metadata": {
    "id": "f019e5d6"
   },
   "outputs": [
    {
     "name": "stdout",
     "output_type": "stream",
     "text": [
      "t-статистика: -4.864384956122782\n",
      "p-значение: 3.415937254419951e-05\n"
     ]
    }
   ],
   "source": [
    "from scipy.stats import ttest_ind\n",
    "\n",
    "vs_0 = df[df['vs'] == 0]['mpg']\n",
    "vs_1 = df[df['vs'] == 1]['mpg']\n",
    "\n",
    "t_stat, p_value = ttest_ind(vs_0, vs_1)\n",
    "print(\"t-статистика:\", t_stat)\n",
    "print(\"p-значение:\", p_value)\n"
   ]
  },
  {
   "cell_type": "markdown",
   "id": "711541a8",
   "metadata": {
    "id": "711541a8"
   },
   "source": [
    "### am, mpg"
   ]
  },
  {
   "cell_type": "code",
   "execution_count": 67,
   "id": "3d8d2db2",
   "metadata": {
    "id": "3d8d2db2"
   },
   "outputs": [
    {
     "name": "stdout",
     "output_type": "stream",
     "text": [
      "t-статистика: -4.106126983100689\n",
      "p-значение: 0.0002850207439350686\n"
     ]
    }
   ],
   "source": [
    "am_0 = df[df['am'] == 0]['mpg']\n",
    "am_1 = df[df['am'] == 1]['mpg']\n",
    "\n",
    "t_stat, p_value = ttest_ind(am_0, am_1)\n",
    "print(\"t-статистика:\", t_stat)\n",
    "print(\"p-значение:\", p_value)\n"
   ]
  },
  {
   "cell_type": "markdown",
   "id": "a913362e",
   "metadata": {
    "id": "a913362e"
   },
   "source": [
    "### vs, am"
   ]
  },
  {
   "cell_type": "code",
   "execution_count": 68,
   "id": "375a5f52",
   "metadata": {
    "id": "375a5f52"
   },
   "outputs": [
    {
     "name": "stdout",
     "output_type": "stream",
     "text": [
      "Хи-квадрат статистика: 0.34753550543024225\n",
      "p-значение: 0.5555115470131495\n"
     ]
    }
   ],
   "source": [
    "from scipy.stats import chi2_contingency\n",
    "\n",
    "contingency_table = pd.crosstab(df['vs'], df['am'])\n",
    "chi2_stat, p_value, _, _ = chi2_contingency(contingency_table)\n",
    "print(\"Хи-квадрат статистика:\", chi2_stat)\n",
    "print(\"p-значение:\", p_value)\n"
   ]
  },
  {
   "cell_type": "markdown",
   "source": [
    "**Комментарии и выводы:**\n",
    "\n",
    "1. **Влияет ли тип двигателя на расход топлива?**\n",
    "   - **t-статистика:** -4.86\n",
    "   - **p-значение:** 3.42e-05 (0.0000342)\n",
    "   - **Вывод:** P-значение меньше уровня значимости 0.05, что позволяет отвергнуть нулевую гипотезу о равенстве средних. Таким образом, можно сказать, что есть статистически значимое влияние типа двигателя на расход топлива.\n",
    "\n",
    "2. **А тип коробки передач?**\n",
    "   - **t-статистика:** -4.11\n",
    "   - **p-значение:** 0.000285\n",
    "   - **Вывод:** P-значение также меньше уровня значимости, что позволяет отвергнуть нулевую гипотезу о равенстве средних. Таким образом, можно сказать, что есть статистически значимое влияние типа коробки передач на расход топлива.\n",
    "\n",
    "3. **Взаимосвязаны ли тип двигателя и тип коробки передач?**\n",
    "   - **Хи-квадрат статистика:** 0.35\n",
    "   - **p-значение:** 0.556\n",
    "   - **Вывод:** P-значение больше уровня значимости 0.05, что не позволяет отвергнуть нулевую гипотезу о независимости двух переменных. Таким образом, нет статистически значимой взаимосвязи между типом двигателя и типом коробки передач.\n",
    "\n",
    "В целом, анализ данного задания указывает на то, что тип двигателя и тип коробки передач влияют на расход топлива, но между типом двигателя и типом коробки передач нет статистически значимой взаимосвязи."
   ],
   "metadata": {
    "collapsed": false
   }
  },
  {
   "cell_type": "code",
   "execution_count": null,
   "id": "9ae9d4d2",
   "metadata": {
    "id": "9ae9d4d2"
   },
   "outputs": [],
   "source": []
  }
 ],
 "metadata": {
  "kernelspec": {
   "display_name": "Python 3 (ipykernel)",
   "language": "python",
   "name": "python3"
  },
  "language_info": {
   "codemirror_mode": {
    "name": "ipython",
    "version": 3
   },
   "file_extension": ".py",
   "mimetype": "text/x-python",
   "name": "python",
   "nbconvert_exporter": "python",
   "pygments_lexer": "ipython3",
   "version": "3.10.4"
  },
  "toc": {
   "base_numbering": 1,
   "nav_menu": {},
   "number_sections": false,
   "sideBar": true,
   "skip_h1_title": false,
   "title_cell": "Table of Contents",
   "title_sidebar": "Contents",
   "toc_cell": true,
   "toc_position": {},
   "toc_section_display": true,
   "toc_window_display": true
  },
  "colab": {
   "provenance": []
  }
 },
 "nbformat": 4,
 "nbformat_minor": 5
}
